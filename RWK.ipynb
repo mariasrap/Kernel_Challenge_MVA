{
 "cells": [
  {
   "cell_type": "markdown",
   "id": "ead2e9f1-2a13-417b-9799-8c12e06a73cd",
   "metadata": {
    "tags": []
   },
   "source": [
    "# <center> Random Walk Kernel </center>\n",
    "\n",
    " "
   ]
  },
  {
   "cell_type": "markdown",
   "id": "9a6f44a4-67da-4a1f-9664-b86220a4f9a4",
   "metadata": {},
   "source": [
    "In this notebook you can find the implementation of 3 versions of the Random Walk Kernel (RWK), the necessary product graph, and the implementation of SVM for binary classification, and some of the experiments we did.\n",
    "The three versions of the RWK differ on the data that take into account: the first does not take into account any label of the nodes or edges, the second takes into account the labels in the nodes, and the third one takes into account, both the nodes' labels and the edges' labels. "
   ]
  },
  {
   "cell_type": "markdown",
   "id": "754d20bb",
   "metadata": {
    "jp-MarkdownHeadingCollapsed": true,
    "tags": []
   },
   "source": [
    "# 0.Import data"
   ]
  },
  {
   "cell_type": "code",
   "execution_count": 1,
   "id": "b13c2b96",
   "metadata": {},
   "outputs": [],
   "source": [
    "import pickle\n",
    "import matplotlib.pyplot as plt\n",
    "import networkx as nx \n",
    "import numpy as np\n",
    "import scipy\n",
    "import mgzip"
   ]
  },
  {
   "cell_type": "code",
   "execution_count": 2,
   "id": "10839384",
   "metadata": {},
   "outputs": [],
   "source": [
    "\n",
    "with open('./data-challenge-kernel-methods-2022-2023/test_data.pkl', 'rb') as f:\n",
    "    challenge_data = pickle.load(f)\n",
    "    \n",
    "with open('./data-challenge-kernel-methods-2022-2023/training_data.pkl', 'rb') as f:\n",
    "    train_data = pickle.load(f)\n",
    "    \n",
    "with open('./data-challenge-kernel-methods-2022-2023/training_labels.pkl', 'rb') as f:\n",
    "    train_label = pickle.load(f)\n"
   ]
  },
  {
   "cell_type": "code",
   "execution_count": 3,
   "id": "a1e9353a",
   "metadata": {},
   "outputs": [],
   "source": [
    "from sklearn.model_selection import train_test_split\n",
    "X_train, X_test, y_train, y_test = train_test_split(train_data, train_label, test_size=0.3, random_state=42)"
   ]
  },
  {
   "cell_type": "code",
   "execution_count": 4,
   "id": "9483c20e",
   "metadata": {},
   "outputs": [],
   "source": [
    "def visualize_graph(graph, label):\n",
    "    '''\n",
    "    Allows us to visualize the graph with the edge and node labels.\n",
    "    \n",
    "    :param graph: networkx object with labeled nodes and edges.\n",
    "    :param label: label/category of the graph\n",
    "    '''\n",
    "    my_pos = nx.spring_layout(graph, seed = 1032023, scale=0.5)\n",
    "    print(f'Graph with label: {label}')\n",
    "\n",
    "    labels_nodes = {key:value[0] \n",
    "                    for (key,value) \n",
    "                    in nx.get_node_attributes(graph, 'labels').items()}\n",
    "    \n",
    "    labels_edges = {key:value[0] \n",
    "                    for (key,value) \n",
    "                    in nx.get_edge_attributes(graph, 'labels').items()}\n",
    "    \n",
    "    nx.draw(graph, pos = my_pos,labels =labels_nodes, with_labels=True, node_size=500)\n",
    "\n",
    "    nx.draw_networkx_edge_labels(graph, my_pos, edge_labels=labels_edges, font_color='red')\n",
    "    \n",
    "    plt.show()\n",
    " "
   ]
  },
  {
   "cell_type": "markdown",
   "id": "26539223",
   "metadata": {
    "jp-MarkdownHeadingCollapsed": true,
    "tags": []
   },
   "source": [
    "# 1. Implementing Walk Kernels"
   ]
  },
  {
   "cell_type": "markdown",
   "id": "648b5d4b",
   "metadata": {},
   "source": [
    "The product graph needed for the Random walk kernel is the so-called 'Tensir product of graph' or 'Direct product'. Consider G,H graphs and GxH the product. \n",
    "\n",
    "This graph has the property that the adjancecy matrix is the Kronecker (tensor) product of the adjacency matrices of G and H (with a possible transformation). (wikipedia).\n",
    "\n",
    "Assume A has n nodes and B has m nodes, the adjacency matrix of $A\\times B$ will have nm nodes. Enumerating the nodes of $A\\times B$ as 1=(A1,B1), 2=(A1,B2),..., m = (A1,Bm)... we dont need to further transform the adjacency matrix, it will just be the Kronecker product. \n",
    "\n",
    "Then, node k of $A\\times B$ will correspond to $k = (A\\{(k-(k\\%m))/m\\}, B\\{k\\%m\\})$ or $k=(A\\{(k-(k\\%m))/m\\}, B\\{m\\})$ if k%m=0.\n",
    "\n",
    "Since our data is labeled, we will implement the possibility to remove the nodes where the label of the corresponding nodes in G and H do not have the same label.\n",
    "\n"
   ]
  },
  {
   "cell_type": "markdown",
   "id": "7f4d06c9",
   "metadata": {
    "tags": []
   },
   "source": [
    "## 1.1. Implementing graph product"
   ]
  },
  {
   "cell_type": "code",
   "execution_count": 5,
   "id": "1bafc937-240c-4585-b003-c71be0325603",
   "metadata": {},
   "outputs": [],
   "source": [
    "import networkx as nx \n",
    "import numpy as np\n",
    "import scipy\n",
    "\n",
    "class ProductGraph:\n",
    "    '''\n",
    "    Direct product graph. \n",
    "    Functions in this version take adjacency matrices and dictionaries with labels objects.\n",
    "    \n",
    "    Contains two functions, one for labeled nodes and one for unlabeled nodes.\n",
    "    They allow to return a graph object or the adjacency matrix.\n",
    "    It's the version needed for the random walk kernel.\n",
    "    \n",
    "    '''\n",
    "    def __init__(self):\n",
    "        pass\n",
    "        \n",
    "    def labeled_nodes(self,G1, G2, return_nx = False):\n",
    "        '''\n",
    "        Direct product graph (aka Tensor Product of Graph).\n",
    "        Assumes graphs have attribute 'labels' for each node.\n",
    "        Also assumes nodes in the graphs are numbered starting from 0.\n",
    "        These properties appear to be true in our dataset.\n",
    "        Does not take into account labeled edges.\n",
    "        \n",
    "        Will return only adjacency matrix of the product by default. \n",
    "        \n",
    "        If return_nx is True, a networkx object with labeled nodes will be returned\n",
    "        \n",
    "        _Parameters_\n",
    "        :param adj_G1, adj_G2: adjacency matrices \n",
    "        :param labels_1,  labels_2: dictionaries with the numbers of the nodes and the labels \n",
    "        '''\n",
    "\n",
    "        #obtain adjacency matrix and dictionaries with labels from graphs\n",
    "        adj_G1 = nx.adjacency_matrix(G1) #this outputs scipy sparse matrix \n",
    "        labels_1 = nx.get_node_attributes(G1, 'labels')\n",
    "\n",
    "        adj_G2 = nx.adjacency_matrix(G2) #this outputs scipy sparse matrix \n",
    "        labels_2 = nx.get_node_attributes(G2, 'labels')\n",
    "            \n",
    "        n = adj_G1.shape[0]\n",
    "\n",
    "        m = adj_G2.shape[0]\n",
    "\n",
    "        adj_prod = scipy.sparse.kron(adj_G1,adj_G2,format='csr') #adjacency matrix of the simple product graph\n",
    "         # create graph from adjacency matrix\n",
    "\n",
    "        k = adj_prod.shape[0]\n",
    "        \n",
    "        if k==0:\n",
    "            return np.empty(0) \n",
    "        if return_nx:\n",
    "            #Here we want to put the label in the product graph, so we take advantage of\n",
    "            #the structure of the nx graph object\n",
    "            prodG = nx.from_scipy_sparse_array(adj_prod)\n",
    "            for i in range(1, k+1):\n",
    "                #Corresponding nodes in G1 and G2 to node i in the product\n",
    "                node_1 =  (i-(i%m))/m +1 if i%m!=0 else (i-(i%m))/m \n",
    "                node_2 = i%m if i%m!=0 else m\n",
    "\n",
    "                #Remove node in product if labels are different, set label otherwise\n",
    "                if labels_1[node_1-1]!=labels_2[node_2-1]:\n",
    "                    prodG.remove_node(i-1)\n",
    "                else:\n",
    "                    nx.set_node_attributes(prodG, {i-1:labels_1[node_1-1]}, 'labels')\n",
    "            return prodG\n",
    "        \n",
    "        else: \n",
    "            #We try to work only with matrices to work more efficiently.\n",
    "            # However going from matrix to sparse and/or viceversa might be costly\n",
    "            \n",
    "            #I checked and this is faster than dealing with the networkx graph and the retreiving its adjacency matrix\n",
    "            \n",
    "            nodes_to_remove =[]\n",
    "            for i in range(1, k+1):\n",
    "                #Corresponding nodes in G1 and G2 to node i in the product\n",
    "                node_1 =  (i-(i%m))/m +1 if i%m!=0 else (i-(i%m))/m \n",
    "                node_2 = i%m if i%m!=0 else m\n",
    "\n",
    "                #Remove node in product if labels are different, set label otherwise\n",
    "                if labels_1[node_1-1]!=labels_2[node_2-1]:\n",
    "                    nodes_to_remove.append(i-1)\n",
    "                    \n",
    "            adj_prod = adj_prod.toarray()\n",
    "            adj_prod=np.delete(arr = adj_prod, obj = nodes_to_remove,axis = 0)\n",
    "            adj_prod=np.delete(arr = adj_prod, obj = nodes_to_remove,axis = 1)\n",
    "            \n",
    "            return adj_prod\n",
    "\n",
    "            \n",
    "    def unlabeled(self,G1,G2,return_nx = False):\n",
    "        '''\n",
    "        Direct product graph (aka Tensor Product of Graph).\n",
    "        \n",
    "        Here we do not take into account the labels of the graph.\n",
    "        \n",
    "        It returns the adjacency matrix of the product.\n",
    "        ! It is a scipy sparse matrix\n",
    "        '''\n",
    "\n",
    "        #obtain adjacency matrix from graphs\n",
    "        adj_G1 = nx.adjacency_matrix(G1) #this outputs scipy sparse matrix \n",
    "        adj_G2 = nx.adjacency_matrix(G2) #this outputs scipy sparse matrix \n",
    "  \n",
    "        adj_prod = scipy.sparse.kron(adj_G1,adj_G2) #adjacency matrix of the simple product graph\n",
    "        \n",
    "        if return_nx:\n",
    "            return nx.from_scipy_sparse_array(adj_prod)\n",
    "        else:\n",
    "            return adj_prod\n",
    "        \n",
    "        \n",
    "    def labeled_edges(self,G1, G2, return_nx = False):\n",
    "        '''\n",
    "        Direct product graph (aka Tensor Product of Graph) taking into account labeled\n",
    "        nodes and edges.\n",
    "        Assumes graphs have attribute 'labels' for each node and for each edge.\n",
    "        Also assumes nodes in the graphs are numbered starting from 0.\n",
    "        These properties appear to be true in our dataset.\n",
    "\n",
    "        Will return only adjacency matrix of the product by default. \n",
    "        \n",
    "        If return_nx is True, a networkx object with labeled nodes will be returned\n",
    "        \n",
    "        _Parameters_\n",
    "        :param adj_G1, adj_G2: adjacency matrices \n",
    "        :param labels_1,  labels_2: dictionaries with the numbers of the nodes and the labels \n",
    "        '''\n",
    "\n",
    "        #obtain adjacency matrix and dictionaries with labels from graphs\n",
    "        adj_G1 = nx.adjacency_matrix(G1)\n",
    "        adj_G2 = nx.adjacency_matrix(G2)\n",
    "        node_labels_1 = nx.get_node_attributes(G1, 'labels')\n",
    "        node_labels_2 = nx.get_node_attributes(G2, 'labels')\n",
    "        \n",
    "        n = adj_G1.shape[0]\n",
    "\n",
    "        m = adj_G2.shape[0]\n",
    "\n",
    "        \n",
    "        adj_prod = scipy.sparse.kron(adj_G1,adj_G2,format='csr')\n",
    "        \n",
    "        # TODO We have to deal with labeled nodes returning 0\n",
    "                \n",
    "        if return_nx:\n",
    "            prod =  self.labeled_nodes(G1, G2, return_nx = True)\n",
    "\n",
    "            # TODO We have to deal with labeled nodes returning 0\n",
    "            \n",
    "            to_remove = []\n",
    "\n",
    "            for edge in prod.edges(data=True):\n",
    "                #Corresponding nodes in G1 and G2 to node i in the product\n",
    "                start = edge[0]+1\n",
    "                end = edge[1]+1\n",
    "                start_1 =  (start-(start%m))/m +1 if start%m!=0 else (start-(start%m))/m \n",
    "                start_2 = start%m if start%m!=0 else m\n",
    "                end_1 =  (end-(end%m))/m +1 if end%m!=0 else (end-(end%m))/m \n",
    "                end_2 = end%m if end%m!=0 else m\n",
    "\n",
    "                #print('p', start,end)\n",
    "                #print('G1', start_1, end_1)\n",
    "                #print('G2', start_2, end_2)\n",
    "\n",
    "                label_1 = G1.get_edge_data(start_1-1, end_1-1)['labels']\n",
    "                label_2 = G2.get_edge_data(start_2-1, end_2-1)['labels']\n",
    "\n",
    "                #Remove node in product if labels are different, set label otherwise\n",
    "                if label_1!=label_2:\n",
    "                    to_remove.append((start-1, end-1))\n",
    "                else:\n",
    "                    nx.set_edge_attributes(prod, {(start-1, end-1):label_1}, 'labels')\n",
    "\n",
    "            prod.remove_edges_from(to_remove)\n",
    "            #prod.remove_nodes_from(list(nx.isolates(prod)))\n",
    "\n",
    "            return prod\n",
    "\n",
    "        else: \n",
    "            edges_to_remove = []\n",
    "            nodes_to_remove =[]\n",
    "\n",
    "            cx = adj_prod.tocoo()\n",
    "            \n",
    "            for start,end in zip(cx.row, cx.col):\n",
    "                start +=1\n",
    "                end +=1\n",
    "                start_1 =  (start-(start%m))/m +1 if start%m!=0 else (start-(start%m))/m \n",
    "                start_2 = start%m if start%m!=0 else m\n",
    "                end_1 =  (end-(end%m))/m +1 if end%m!=0 else (end-(end%m))/m \n",
    "                end_2 = end%m if end%m!=0 else m\n",
    "\n",
    "                label_1 = G1.get_edge_data(start_1-1, end_1-1)['labels']\n",
    "                label_2 = G2.get_edge_data(start_2-1, end_2-1)['labels']\n",
    "\n",
    "                #Remove node in product if labels are different, set label otherwise\n",
    "                if label_1!=label_2:\n",
    "                    edges_to_remove.append((start-1, end-1))\n",
    "\n",
    "                if node_labels_1[start_1-1]!=node_labels_2[start_2-1]:\n",
    "                    nodes_to_remove.append(start-1)\n",
    "\n",
    "                if node_labels_1[end_1-1]!=node_labels_2[end_2-1]:\n",
    "                    nodes_to_remove.append(end-1)\n",
    "\n",
    "            adj_prod = adj_prod.toarray()\n",
    "\n",
    "            for edge in edges_to_remove:\n",
    "                adj_prod[edge[0],edge[1]]=0\n",
    "                adj_prod[edge[1],edge[0]]=0\n",
    "\n",
    "            adj_prod=np.delete(arr = adj_prod, obj = nodes_to_remove,axis = 0)\n",
    "            adj_prod=np.delete(arr = adj_prod, obj = nodes_to_remove,axis = 1)\n",
    "\n",
    "            return adj_prod\n",
    "            "
   ]
  },
  {
   "cell_type": "markdown",
   "id": "979991da-bc51-4b79-abce-8b25278ae5b8",
   "metadata": {
    "tags": []
   },
   "source": [
    "### Checking Product Graph"
   ]
  },
  {
   "cell_type": "code",
   "execution_count": 6,
   "id": "13eea12f",
   "metadata": {},
   "outputs": [
    {
     "name": "stdout",
     "output_type": "stream",
     "text": [
      "Graph with label: 0\n"
     ]
    },
    {
     "data": {
      "image/png": "[encoded data removed]",
      "text/plain": [
       "<Figure size 640x480 with 1 Axes>"
      ]
     },
     "metadata": {},
     "output_type": "display_data"
    },
    {
     "name": "stdout",
     "output_type": "stream",
     "text": [
      "Graph with label: 0\n"
     ]
    },
    {
     "data": {
      "image/png": "[encoded data removed]",
      "text/plain": [
       "<Figure size 640x480 with 1 Axes>"
      ]
     },
     "metadata": {},
     "output_type": "display_data"
    }
   ],
   "source": [
    "A = nx.Graph()\n",
    "A.add_nodes_from([(0, {'labels': [0]}),\n",
    "                 (1, {'labels': [0]}),\n",
    "                 (2, {'labels': [1]}),\n",
    "                 (3, {'labels': [1]})])\n",
    "\n",
    "A.add_edges_from([(0, 1,{'labels': [1]}),\n",
    "                  (1, 2,{'labels': [1]}),\n",
    "                  (1, 3,{'labels': [0]})])\n",
    "\n",
    "B = nx.Graph()\n",
    "B.add_nodes_from([(0, {'labels': [0]}),\n",
    "                 (1, {'labels': [0]}),\n",
    "                 (2, {'labels': [1]}),\n",
    "                 (3, {'labels': [0]}),\n",
    "                 (4, {'labels': [1]})])\n",
    "\n",
    "B.add_edges_from([(0,1, {'labels': [0]}),\n",
    "                 (1,2, {'labels': [0]}),\n",
    "                 (2,3, {'labels': [0]}),\n",
    "                 (2,4, {'labels': [1]}),\n",
    "                 (4,3, {'labels': [0]})])\n",
    "\n",
    "\n",
    "visualize_graph(A, y_train[0])\n",
    "visualize_graph(B, y_train[0])\n",
    "\n"
   ]
  },
  {
   "cell_type": "markdown",
   "id": "4a5b4d83-1a05-42a5-bedd-e6dbf32b4150",
   "metadata": {},
   "source": [
    "**Checking Product Graph with Labeled Nodes**"
   ]
  },
  {
   "cell_type": "code",
   "execution_count": 7,
   "id": "e2627d7d",
   "metadata": {},
   "outputs": [
    {
     "name": "stdout",
     "output_type": "stream",
     "text": [
      "[(0, {'labels': [0]}), (1, {'labels': [0]}), (3, {'labels': [0]}), (5, {'labels': [0]}), (6, {'labels': [0]}), (8, {'labels': [0]}), (12, {'labels': [1]}), (14, {'labels': [1]}), (17, {'labels': [1]}), (19, {'labels': [1]})]\n",
      "Graph with label: 0\n"
     ]
    },
    {
     "name": "stderr",
     "output_type": "stream",
     "text": [
      "/var/folders/k0/xshtxbl53md8lxz0q286gwg40000gn/T/ipykernel_49898/3037087972.py:1: FutureWarning: adjacency_matrix will return a scipy.sparse array instead of a matrix in Networkx 3.0.\n",
      "  adj_A = nx.adjacency_matrix(A)\n",
      "/var/folders/k0/xshtxbl53md8lxz0q286gwg40000gn/T/ipykernel_49898/3037087972.py:2: FutureWarning: adjacency_matrix will return a scipy.sparse array instead of a matrix in Networkx 3.0.\n",
      "  adj_B = nx.adjacency_matrix(B)\n",
      "/var/folders/k0/xshtxbl53md8lxz0q286gwg40000gn/T/ipykernel_49898/365156290.py:36: FutureWarning: adjacency_matrix will return a scipy.sparse array instead of a matrix in Networkx 3.0.\n",
      "  adj_G1 = nx.adjacency_matrix(G1) #this outputs scipy sparse matrix\n",
      "/var/folders/k0/xshtxbl53md8lxz0q286gwg40000gn/T/ipykernel_49898/365156290.py:39: FutureWarning: adjacency_matrix will return a scipy.sparse array instead of a matrix in Networkx 3.0.\n",
      "  adj_G2 = nx.adjacency_matrix(G2) #this outputs scipy sparse matrix\n"
     ]
    },
    {
     "data": {
      "image/png": "[encoded data removed]",
      "text/plain": [
       "<Figure size 640x480 with 1 Axes>"
      ]
     },
     "metadata": {},
     "output_type": "display_data"
    }
   ],
   "source": [
    "adj_A = nx.adjacency_matrix(A)\n",
    "adj_B = nx.adjacency_matrix(B)\n",
    "labels_A = nx.get_node_attributes(A, 'labels')\n",
    "labels_B = nx.get_node_attributes(B, 'labels')\n",
    "prod = ProductGraph().labeled_nodes(A,B,return_nx = True)\n",
    "print(list(prod.nodes(data=True)))\n",
    "visualize_graph(prod, y_train[0])\n"
   ]
  },
  {
   "cell_type": "markdown",
   "id": "1b3e4810-331d-4213-8e69-7cce9e1e57f4",
   "metadata": {},
   "source": [
    "**Checking Product Graph with Labeled Nodes and Edges**\n"
   ]
  },
  {
   "cell_type": "code",
   "execution_count": 8,
   "id": "72198866-6df7-41e3-86d6-a1a3eaecfc6d",
   "metadata": {},
   "outputs": [
    {
     "name": "stdout",
     "output_type": "stream",
     "text": [
      "Graph with label: 0\n"
     ]
    },
    {
     "name": "stderr",
     "output_type": "stream",
     "text": [
      "/var/folders/k0/xshtxbl53md8lxz0q286gwg40000gn/T/ipykernel_49898/365156290.py:132: FutureWarning: adjacency_matrix will return a scipy.sparse array instead of a matrix in Networkx 3.0.\n",
      "  adj_G1 = nx.adjacency_matrix(G1)\n",
      "/var/folders/k0/xshtxbl53md8lxz0q286gwg40000gn/T/ipykernel_49898/365156290.py:133: FutureWarning: adjacency_matrix will return a scipy.sparse array instead of a matrix in Networkx 3.0.\n",
      "  adj_G2 = nx.adjacency_matrix(G2)\n",
      "/var/folders/k0/xshtxbl53md8lxz0q286gwg40000gn/T/ipykernel_49898/365156290.py:36: FutureWarning: adjacency_matrix will return a scipy.sparse array instead of a matrix in Networkx 3.0.\n",
      "  adj_G1 = nx.adjacency_matrix(G1) #this outputs scipy sparse matrix\n",
      "/var/folders/k0/xshtxbl53md8lxz0q286gwg40000gn/T/ipykernel_49898/365156290.py:39: FutureWarning: adjacency_matrix will return a scipy.sparse array instead of a matrix in Networkx 3.0.\n",
      "  adj_G2 = nx.adjacency_matrix(G2) #this outputs scipy sparse matrix\n"
     ]
    },
    {
     "data": {
      "image/png": "[encoded data removed]",
      "text/plain": [
       "<Figure size 640x480 with 1 Axes>"
      ]
     },
     "metadata": {},
     "output_type": "display_data"
    }
   ],
   "source": [
    "prod2 = ProductGraph().labeled_edges(A,B, return_nx = True)\n",
    "visualize_graph(prod2, y_train[0])"
   ]
  },
  {
   "cell_type": "markdown",
   "id": "9164e565",
   "metadata": {
    "tags": []
   },
   "source": [
    "## 1.2. Unlabeled Random Walk Kernel for graphs "
   ]
  },
  {
   "cell_type": "code",
   "execution_count": 9,
   "id": "935b3f89-b37e-432c-bd60-32df7b2378f4",
   "metadata": {},
   "outputs": [],
   "source": [
    "from scipy.sparse.linalg import cg\n",
    "from scipy.sparse.linalg import LinearOperator"
   ]
  },
  {
   "cell_type": "markdown",
   "id": "62ca6e48-06be-4435-a473-91df0bdd149b",
   "metadata": {},
   "source": [
    "We will do an implementation of the random walk kernel using Conjugate Gradient Method proposed by [Graph Kernels 2010, Vishwanathan et al]\n",
    "We solve (I-lambda*A)X = p using the cg method from scipy.sparse.linalg, but using the formula from the paper to compute Ax.\n",
    "With their notation, letting A be de adjacency matrix of the product graph, and $A_1$ and $A_2$ of the original graphs, it follows\n",
    "\n",
    "$$\n",
    "(I-\\lambda A)x = Ix-\\lambda vec(A_2  X  A_1^T)\n",
    "$$\n",
    "\n",
    "where, if B is a matrix of size $n\\times m$ $vec(B)$ is the vector of size $nm$ resulting from stacking itss columns."
   ]
  },
  {
   "cell_type": "code",
   "execution_count": 10,
   "id": "2785f9a7",
   "metadata": {},
   "outputs": [],
   "source": [
    "from tqdm import tqdm\n",
    "\n",
    "class Random_Walk_Kernel:\n",
    "    def __init__(self, weight = 0.1, method='cg', verbose = True):\n",
    "        self.weight = weight\n",
    "        self.method = method\n",
    "        self.verbose = verbose\n",
    "    \n",
    "    def kernel_simple(self,G1,G2):\n",
    "        '''\n",
    "        Computes kernel function for 2 graphs\n",
    "        \n",
    "        \n",
    "        If p and q are the vectors with the starting and stopping probabilities respectively, computing the \n",
    "        random walk kernel amounts to computing q^T(I-lambda*A)^{-1}p where A is the adjacency matrix of the product graph.\n",
    "        \n",
    "        We consider uniform starting and stopping distributions (i.e. probability 1/n where n is the number of vertices).\n",
    "       \n",
    "        '''\n",
    "        nm=0\n",
    "        \n",
    "        if self.method == 'direct':\n",
    "            prod = ProductGraph().unlabeled(G1,G2)\n",
    "            nm = prod.shape[0] #Number of nodes in product graph\n",
    "\n",
    "            if nm!=0: output= np.ones(nm).T@scipy.sparse.linalg.spsolve(scipy.sparse.eye(nm)-self.weight*prod,np.ones(nm)) \n",
    "            \n",
    "            #Can be normalized using the following line instead\n",
    "            #if nm!=0: output= (1/nm)*np.ones(nm).T@np.linalg.solve(np.eye(nm)-self.weight*prod.toarray(),np.ones(nm)) #direct inverse\n",
    "            \n",
    "        elif self.method== 'cg': #Efficient implementation using Conjugate Gradient Methods [Graph Kernels 2010, Vishwanathan et al]\n",
    "            # However, this implementation seem not to be faster than the other and results are not exactly the same\n",
    "            adj_G1 = nx.adjacency_matrix(G1) #this outputs scipy sparse matrix \n",
    "            adj_G2 = nx.adjacency_matrix(G2) #this outputs scipy sparse matrix \n",
    "            \n",
    "            n = adj_G1.shape[0]\n",
    "            m = adj_G2.shape[0]\n",
    "            nm = m*n\n",
    "\n",
    "            def mv(x):\n",
    "                X  = x.reshape(n,m)\n",
    "                vec = adj_G1@X@adj_G2.T\n",
    "                vec = np.hstack(vec[:, i] for i in range(vec.shape[1]))\n",
    "                return x -self.weight*vec\n",
    "\n",
    "            M = LinearOperator((nm,nm),matvec=mv)\n",
    "\n",
    "            #The solution of the linear system is (I-lambda*A)^{-1}p \n",
    "            sol = cg(M,np.ones(nm),tol=1.0e-3, maxiter=20)[0]\n",
    "\n",
    "            #could be normalized using output = (1/nm)*sol.sum()\n",
    "            output = sol.sum()\n",
    "\n",
    "            \n",
    "        if nm==0 : return 0 #in this case the matrices have no vertices in common\n",
    "        else: return output\n",
    "        \n",
    "    \n",
    "    def kernel_matrix (self, G):\n",
    "        '''\n",
    "        Computes kernel matrix for a list of graphs.\n",
    "        \n",
    "        '''\n",
    "        n = len(G)\n",
    "        \n",
    "        K = np.zeros((n,n))\n",
    "        \n",
    "        for i in tqdm(range(n)):\n",
    "            for j in range(i,n):\n",
    "                K[i][j] = self.kernel_simple(G[i], G[j])\n",
    "                if i!=j:\n",
    "                    K[j][i]= K[i][j]\n",
    "   \n",
    "        return K\n",
    "\n",
    "    def kernel(self,G1,G2):\n",
    "        '''\n",
    "        Computes pairwise kernel comparisons between two lists of graphs.\n",
    "        '''\n",
    "        n = len(G1)\n",
    "        m = len(G2)\n",
    "        K = np.zeros((n,m))\n",
    "        \n",
    "        \n",
    "        for i in range(n):\n",
    "            for j in range(m):\n",
    "                K[i][j] = self.kernel_simple(G1[i], G2[j])\n",
    "                    \n",
    "        return K"
   ]
  },
  {
   "cell_type": "code",
   "execution_count": 11,
   "id": "4a02dff6-9974-4970-b087-4f48a9d1e164",
   "metadata": {},
   "outputs": [
    {
     "name": "stderr",
     "output_type": "stream",
     "text": [
      "  0%|          | 0/3 [00:00<?, ?it/s]/var/folders/k0/xshtxbl53md8lxz0q286gwg40000gn/T/ipykernel_49898/365156290.py:103: FutureWarning: adjacency_matrix will return a scipy.sparse array instead of a matrix in Networkx 3.0.\n",
      "  adj_G1 = nx.adjacency_matrix(G1) #this outputs scipy sparse matrix\n",
      "/var/folders/k0/xshtxbl53md8lxz0q286gwg40000gn/T/ipykernel_49898/365156290.py:104: FutureWarning: adjacency_matrix will return a scipy.sparse array instead of a matrix in Networkx 3.0.\n",
      "  adj_G2 = nx.adjacency_matrix(G2) #this outputs scipy sparse matrix\n",
      "100%|██████████| 3/3 [00:01<00:00,  2.78it/s]\n"
     ]
    },
    {
     "data": {
      "text/plain": [
       "array([[650.60431749, 763.33818215, 431.02949113],\n",
       "       [763.33818215, 900.57957674, 503.80963139],\n",
       "       [431.02949113, 503.80963139, 287.36141907]])"
      ]
     },
     "execution_count": 11,
     "metadata": {},
     "output_type": "execute_result"
    }
   ],
   "source": [
    "#Our implementation, direct method\n",
    "Random_Walk_Kernel(method='direct').kernel_matrix(X_train[:3])"
   ]
  },
  {
   "cell_type": "code",
   "execution_count": 12,
   "id": "0c5e6ba5-6fd7-4dfb-8d31-1eea17eca70d",
   "metadata": {},
   "outputs": [
    {
     "name": "stderr",
     "output_type": "stream",
     "text": [
      "  0%|          | 0/3 [00:00<?, ?it/s]/var/folders/k0/xshtxbl53md8lxz0q286gwg40000gn/T/ipykernel_49898/2150432073.py:33: FutureWarning: adjacency_matrix will return a scipy.sparse array instead of a matrix in Networkx 3.0.\n",
      "  adj_G1 = nx.adjacency_matrix(G1) #this outputs scipy sparse matrix\n",
      "/var/folders/k0/xshtxbl53md8lxz0q286gwg40000gn/T/ipykernel_49898/2150432073.py:34: FutureWarning: adjacency_matrix will return a scipy.sparse array instead of a matrix in Networkx 3.0.\n",
      "  adj_G2 = nx.adjacency_matrix(G2) #this outputs scipy sparse matrix\n",
      "/var/folders/k0/xshtxbl53md8lxz0q286gwg40000gn/T/ipykernel_49898/2150432073.py:43: FutureWarning: arrays to stack must be passed as a \"sequence\" type such as list or tuple. Support for non-sequence iterables such as generators is deprecated as of NumPy 1.16 and will raise an error in the future.\n",
      "  vec = np.hstack(vec[:, i] for i in range(vec.shape[1]))\n",
      "100%|██████████| 3/3 [00:00<00:00, 181.34it/s]\n"
     ]
    },
    {
     "data": {
      "text/plain": [
       "array([[650.60404946, 629.63969514, 368.82017157],\n",
       "       [629.63969514, 900.5795648 , 434.68328049],\n",
       "       [368.82017157, 434.68328049, 287.36141907]])"
      ]
     },
     "execution_count": 12,
     "metadata": {},
     "output_type": "execute_result"
    }
   ],
   "source": [
    "#Our implementation, cg method\n",
    "Random_Walk_Kernel(method='cg').kernel_matrix(X_train[:3])"
   ]
  },
  {
   "cell_type": "markdown",
   "id": "d5afa841-3eb1-4213-b552-a2fe562586b4",
   "metadata": {},
   "source": [
    "**Discussion on the results**\n",
    "\n",
    "We observe that the method 'direct' (not normalizing) and the 'cg' method do not give exactly the same results, only values in the diagonal coincide. We may assume that the correct results are the one from the direct method as it applied directly the definition, while the 'cg' method approximates.\n",
    "\n",
    "**Discussion on performance (time)**\n",
    "Below, we observe that creating the kernel matrix for 200 graphs with the 'direct method' takes (in my computer) 22 seconds, but with the 'cg' method takes over 50. We assume that the advantage of this method might be observed in the labaled scenario."
   ]
  },
  {
   "cell_type": "code",
   "execution_count": 13,
   "id": "17149103-64b5-40ba-944c-0e73a6f0df04",
   "metadata": {},
   "outputs": [
    {
     "name": "stderr",
     "output_type": "stream",
     "text": [
      "  0%|          | 0/200 [00:00<?, ?it/s]/var/folders/k0/xshtxbl53md8lxz0q286gwg40000gn/T/ipykernel_49898/365156290.py:103: FutureWarning: adjacency_matrix will return a scipy.sparse array instead of a matrix in Networkx 3.0.\n",
      "  adj_G1 = nx.adjacency_matrix(G1) #this outputs scipy sparse matrix\n",
      "/var/folders/k0/xshtxbl53md8lxz0q286gwg40000gn/T/ipykernel_49898/365156290.py:104: FutureWarning: adjacency_matrix will return a scipy.sparse array instead of a matrix in Networkx 3.0.\n",
      "  adj_G2 = nx.adjacency_matrix(G2) #this outputs scipy sparse matrix\n",
      "100%|██████████| 200/200 [00:22<00:00,  8.77it/s]\n"
     ]
    },
    {
     "data": {
      "text/plain": [
       "array([[ 650.60431749,  763.33818215,  431.02949113, ...,  305.22142153,\n",
       "         982.80596624,  431.51930214],\n",
       "       [ 763.33818215,  900.57957674,  503.80963139, ...,  354.69428457,\n",
       "        1151.65421939,  504.2963574 ],\n",
       "       [ 431.02949113,  503.80963139,  287.36141907, ...,  205.00782918,\n",
       "         652.07033071,  287.7051903 ],\n",
       "       ...,\n",
       "       [ 305.22142153,  354.69428457,  205.00782918, ...,  147.72      ,\n",
       "         462.72842439,  205.3470386 ],\n",
       "       [ 982.80596624, 1151.65421939,  652.07033071, ...,  462.72842439,\n",
       "        1485.58029125,  652.77872328],\n",
       "       [ 431.51930214,  504.2963574 ,  287.7051903 , ...,  205.3470386 ,\n",
       "         652.77872328,  288.16148159]])"
      ]
     },
     "execution_count": 13,
     "metadata": {},
     "output_type": "execute_result"
    }
   ],
   "source": [
    "Random_Walk_Kernel(method='direct').kernel_matrix(X_train[:200])"
   ]
  },
  {
   "cell_type": "code",
   "execution_count": 14,
   "id": "e12dc919-443b-4567-bb4e-47e10cf29cf7",
   "metadata": {},
   "outputs": [
    {
     "name": "stderr",
     "output_type": "stream",
     "text": [
      "  0%|          | 0/200 [00:00<?, ?it/s]/var/folders/k0/xshtxbl53md8lxz0q286gwg40000gn/T/ipykernel_49898/2150432073.py:33: FutureWarning: adjacency_matrix will return a scipy.sparse array instead of a matrix in Networkx 3.0.\n",
      "  adj_G1 = nx.adjacency_matrix(G1) #this outputs scipy sparse matrix\n",
      "/var/folders/k0/xshtxbl53md8lxz0q286gwg40000gn/T/ipykernel_49898/2150432073.py:34: FutureWarning: adjacency_matrix will return a scipy.sparse array instead of a matrix in Networkx 3.0.\n",
      "  adj_G2 = nx.adjacency_matrix(G2) #this outputs scipy sparse matrix\n",
      "/var/folders/k0/xshtxbl53md8lxz0q286gwg40000gn/T/ipykernel_49898/2150432073.py:43: FutureWarning: arrays to stack must be passed as a \"sequence\" type such as list or tuple. Support for non-sequence iterables such as generators is deprecated as of NumPy 1.16 and will raise an error in the future.\n",
      "  vec = np.hstack(vec[:, i] for i in range(vec.shape[1]))\n",
      "100%|██████████| 200/200 [00:50<00:00,  4.00it/s]\n"
     ]
    },
    {
     "data": {
      "text/plain": [
       "array([[ 650.60404946,  629.63969514,  368.82017157, ...,  267.80601624,\n",
       "         846.40020634,  379.90588674],\n",
       "       [ 629.63969514,  900.5795648 ,  434.68328049, ...,  310.1687502 ,\n",
       "         950.16161077,  427.59850621],\n",
       "       [ 368.82017157,  434.68328049,  287.36141907, ...,  182.46648075,\n",
       "         562.00105543,  249.87338484],\n",
       "       ...,\n",
       "       [ 267.80601624,  310.1687502 ,  182.46648075, ...,  147.72      ,\n",
       "         412.0463591 ,  177.11549871],\n",
       "       [ 846.40020634,  950.16161077,  562.00105543, ...,  412.0463591 ,\n",
       "        1485.58009621,  584.4783291 ],\n",
       "       [ 379.90588674,  427.59850621,  249.87338484, ...,  177.11549871,\n",
       "         584.4783291 ,  288.16146418]])"
      ]
     },
     "execution_count": 14,
     "metadata": {},
     "output_type": "execute_result"
    }
   ],
   "source": [
    "Random_Walk_Kernel(method='cg').kernel_matrix(X_train[:200])"
   ]
  },
  {
   "cell_type": "markdown",
   "id": "2313ce0b-254a-47f5-a084-83259452e837",
   "metadata": {
    "jp-MarkdownHeadingCollapsed": true,
    "tags": []
   },
   "source": [
    "## 1.3. Labeled Nodes Random Walk Kernel"
   ]
  },
  {
   "cell_type": "code",
   "execution_count": 15,
   "id": "ab2662f0-3e0f-4a4b-8e94-fa2e6d5bd265",
   "metadata": {},
   "outputs": [],
   "source": [
    "from tqdm import tqdm\n",
    "\n",
    "class Labeled_Random_Walk_Kernel:\n",
    "    def __init__(self, weight = 0.1, method = 'direct'):\n",
    "        self.weight = weight\n",
    "        self.method = method\n",
    "    \n",
    "    def kernel_simple(self,G1,G2):\n",
    "        '''\n",
    "        Computes kernel function for 2 graphs\n",
    "        '''\n",
    "        \n",
    "        if self.method == 'direct': \n",
    "\n",
    "            prod = ProductGraph().labeled_nodes(G1,G2, return_nx = False)\n",
    "\n",
    "            # I ckecked, and converting to sparse matrix and then using sparse solver is faster than keeping it as np.ndarray and using np.linalg solver\n",
    "            prod = scipy.sparse.csr_matrix(prod) \n",
    "\n",
    "            nm = prod.shape[0] #Number of nodes in product graph\n",
    "\n",
    "            if nm!=0: \n",
    "                output= np.ones(nm).T@scipy.sparse.linalg.spsolve(scipy.sparse.eye(nm)-self.weight*prod,np.ones(nm)) #direct inverse\n",
    "            else:\n",
    "                output=0\n",
    "        elif self.method == 'cg':\n",
    "            #To Be Implemented\n",
    "            \n",
    "            output=0\n",
    "\n",
    "        #Can be normalized using the following line instead\n",
    "        #if nm!=0: output= (1/nm)*np.ones(nm).T@np.linalg.solve(np.eye(nm)-self.weight*prod.toarray(),np.ones(nm)) #direct inverse\n",
    "        \n",
    "        return output\n",
    "        \n",
    "    def kernel_matrix (self, G):\n",
    "        '''\n",
    "        Computes kernel matrix for a list of graphs.\n",
    "        \n",
    "        '''\n",
    "        n = len(G)\n",
    "        \n",
    "        K = np.zeros((n,n))\n",
    "        \n",
    "        for i in tqdm(range(n)):\n",
    "            for j in range(i,n):\n",
    "                K[i][j] = self.kernel_simple(G[i], G[j])\n",
    "                if i!=j:\n",
    "                    K[j][i]= K[i][j]\n",
    "   \n",
    "        return K\n",
    "\n",
    "    def kernel(self,G1,G2):\n",
    "        '''\n",
    "        Computes pairwise kernel comparisons between two lists of graphs.\n",
    "        '''\n",
    "        n = len(G1)\n",
    "        m = len(G2)\n",
    "        K = np.zeros((n,m))\n",
    "        \n",
    "        \n",
    "        for i in tqdm(range(n)):\n",
    "            for j in range(m):\n",
    "                K[i][j] = self.kernel_simple(G1[i], G2[j])\n",
    "                    \n",
    "        return K"
   ]
  },
  {
   "cell_type": "code",
   "execution_count": 16,
   "id": "92c66806-cf06-45a9-afb1-3820c8caa88a",
   "metadata": {},
   "outputs": [
    {
     "name": "stderr",
     "output_type": "stream",
     "text": [
      "  0%|          | 0/150 [00:00<?, ?it/s]/var/folders/k0/xshtxbl53md8lxz0q286gwg40000gn/T/ipykernel_49898/365156290.py:36: FutureWarning: adjacency_matrix will return a scipy.sparse array instead of a matrix in Networkx 3.0.\n",
      "  adj_G1 = nx.adjacency_matrix(G1) #this outputs scipy sparse matrix\n",
      "/var/folders/k0/xshtxbl53md8lxz0q286gwg40000gn/T/ipykernel_49898/365156290.py:39: FutureWarning: adjacency_matrix will return a scipy.sparse array instead of a matrix in Networkx 3.0.\n",
      "  adj_G2 = nx.adjacency_matrix(G2) #this outputs scipy sparse matrix\n",
      "100%|██████████| 150/150 [00:16<00:00,  9.12it/s]\n"
     ]
    },
    {
     "data": {
      "text/plain": [
       "array([[572.57395736, 158.29015781, 186.81729403, ..., 514.13050281,\n",
       "        511.23608046, 408.65594523],\n",
       "       [158.29015781, 324.99847179,  54.72527473, ..., 152.64221192,\n",
       "        147.52081958, 127.0030377 ],\n",
       "       [186.81729403,  54.72527473, 109.83050847, ..., 186.73771065,\n",
       "        211.14851819, 184.53455696],\n",
       "       ...,\n",
       "       [514.13050281, 152.64221192, 186.73771065, ..., 487.73209796,\n",
       "        482.50981464, 409.17282694],\n",
       "       [511.23608046, 147.52081958, 211.14851819, ..., 482.50981464,\n",
       "        504.38589498, 417.57354766],\n",
       "       [408.65594523, 127.0030377 , 184.53455696, ..., 409.17282694,\n",
       "        417.57354766, 393.13719777]])"
      ]
     },
     "execution_count": 16,
     "metadata": {},
     "output_type": "execute_result"
    }
   ],
   "source": [
    "Labeled_Random_Walk_Kernel().kernel_matrix(X_train[:150])"
   ]
  },
  {
   "cell_type": "markdown",
   "id": "dcdbd3c1-4ead-4c76-84f0-2b6d076d109b",
   "metadata": {},
   "source": [
    "**Discussion**\n",
    "\n",
    "Even if it is a bit slower, with the right modifications we have achieved fir the kernel matrix to be computed in reasonable time for our train data set (around 5 hours).\n",
    "\n",
    "There is a way to implement conjugate gradients for labeled graphs, but in this case we don't work with the adjacency matrices. We could try to implement it. It is also based on solving $Ix-\\lambda vec(A_2  X  A_1^T)=p$ but $A_1, A_2$ are not the adjacency matrices. Instead they are the $\\phi(X)$ detailed at the begining of page 1206 in https://www.jmlr.org/papers/volume11/vishwanathan10a/vishwanathan10a.pdf.\n",
    "Observe that in this paper they think of labeled edges, so in order to take into account the labeled vertices we can consider each edge as labeled with the labels of the nodes in its ends.\n",
    "If we implemented this we could probably easily take into account edge-labels.\n",
    "Finally we could take into account edges+labels considering the edges labeled by its own label= the labels of its nodes.\n"
   ]
  },
  {
   "cell_type": "markdown",
   "id": "7a70362f-27ea-4373-98d4-d5ae93ef95b9",
   "metadata": {
    "jp-MarkdownHeadingCollapsed": true,
    "tags": []
   },
   "source": [
    "## 1.4. Labeled Nodes and Edges RMK"
   ]
  },
  {
   "cell_type": "code",
   "execution_count": 17,
   "id": "0c35b70f-b71a-4684-95b5-f70aad58c82f",
   "metadata": {},
   "outputs": [],
   "source": [
    "from tqdm import tqdm\n",
    "\n",
    "class Labeled__Edges_RW_Kernel:\n",
    "    def __init__(self, weight = 0.1, method = 'direct'):\n",
    "        self.weight = weight\n",
    "        self.method = method\n",
    "    \n",
    "    def kernel_simple(self,G1,G2):\n",
    "        '''\n",
    "        Computes kernel function for 2 graphs\n",
    "        '''\n",
    "        \n",
    "        if self.method == 'direct': \n",
    "            \n",
    "            prod = ProductGraph().labeled_edges(G1,G2, return_nx = False)\n",
    "            \n",
    "            nm = prod.shape[0]\n",
    "        \n",
    "            if nm!=0: \n",
    "                prod = scipy.sparse.csr_matrix(prod) \n",
    "                output= np.ones(nm).T@scipy.sparse.linalg.spsolve(scipy.sparse.eye(nm)-self.weight*prod,np.ones(nm)) #direct inverse\n",
    "            else:\n",
    "                output=0\n",
    "        elif self.method == 'cg':\n",
    "            #To Be Implemented\n",
    "            \n",
    "            output=0\n",
    "\n",
    "        #Can be normalized using the following line instead\n",
    "        #if nm!=0: output= (1/nm)*np.ones(nm).T@np.linalg.solve(np.eye(nm)-self.weight*prod.toarray(),np.ones(nm)) #direct inverse\n",
    "        \n",
    "        return output\n",
    "        \n",
    "    def kernel_matrix (self, G):\n",
    "        '''\n",
    "        Computes kernel matrix for a list of graphs.\n",
    "        \n",
    "        '''\n",
    "        n = len(G)\n",
    "        \n",
    "        K = np.zeros((n,n))\n",
    "        \n",
    "        for i in tqdm(range(n)):\n",
    "            for j in range(i,n):\n",
    "                K[i][j] = self.kernel_simple(G[i], G[j])\n",
    "                if i!=j:\n",
    "                    K[j][i]= K[i][j]\n",
    "   \n",
    "        return K\n",
    "\n",
    "    def kernel(self,G1,G2):\n",
    "        '''\n",
    "        Computes pairwise kernel comparisons between two lists of graphs.\n",
    "        '''\n",
    "        n = len(G1)\n",
    "        m = len(G2)\n",
    "        K = np.zeros((n,m))\n",
    "        \n",
    "        \n",
    "        for i in tqdm(range(n)):\n",
    "            for j in range(m):\n",
    "                K[i][j] = self.kernel_simple(G1[i], G2[j])\n",
    "                    \n",
    "        return K"
   ]
  },
  {
   "cell_type": "code",
   "execution_count": 18,
   "id": "d1e1cfe0-f412-4217-87cb-a8d733f5f7f7",
   "metadata": {},
   "outputs": [
    {
     "name": "stderr",
     "output_type": "stream",
     "text": [
      "  0%|          | 0/150 [00:00<?, ?it/s]/var/folders/k0/xshtxbl53md8lxz0q286gwg40000gn/T/ipykernel_49898/365156290.py:132: FutureWarning: adjacency_matrix will return a scipy.sparse array instead of a matrix in Networkx 3.0.\n",
      "  adj_G1 = nx.adjacency_matrix(G1)\n",
      "/var/folders/k0/xshtxbl53md8lxz0q286gwg40000gn/T/ipykernel_49898/365156290.py:133: FutureWarning: adjacency_matrix will return a scipy.sparse array instead of a matrix in Networkx 3.0.\n",
      "  adj_G2 = nx.adjacency_matrix(G2)\n",
      "100%|██████████| 150/150 [01:24<00:00,  1.77it/s]\n"
     ]
    },
    {
     "data": {
      "text/plain": [
       "array([[489.95602991, 151.73550258, 174.90455221, ..., 410.78909456,\n",
       "        474.12651122, 381.76171312],\n",
       "       [151.73550258, 324.99847179,  54.72527473, ..., 151.76761721,\n",
       "        147.52081958, 156.6981521 ],\n",
       "       [174.90455221,  54.72527473, 109.83050847, ..., 170.27049721,\n",
       "        211.14851819, 187.44566018],\n",
       "       ...,\n",
       "       [410.78909456, 151.76761721, 170.27049721, ..., 427.97990859,\n",
       "        421.58049763, 407.56097632],\n",
       "       [474.12651122, 147.52081958, 211.14851819, ..., 421.58049763,\n",
       "        504.38589498, 409.78586249],\n",
       "       [381.76171312, 156.6981521 , 187.44566018, ..., 407.56097632,\n",
       "        409.78586249, 445.36681902]])"
      ]
     },
     "execution_count": 18,
     "metadata": {},
     "output_type": "execute_result"
    }
   ],
   "source": [
    "Labeled__Edges_RW_Kernel().kernel_matrix(X_train[:150])"
   ]
  },
  {
   "cell_type": "markdown",
   "id": "fdd040c8-c5cf-49c5-a379-0a5d6d0045ca",
   "metadata": {
    "jp-MarkdownHeadingCollapsed": true,
    "tags": []
   },
   "source": [
    "# 2. Implementing Support Vector Machine"
   ]
  },
  {
   "cell_type": "code",
   "execution_count": 19,
   "id": "c67eb80b-c365-4548-a064-ea5734d6f54d",
   "metadata": {},
   "outputs": [],
   "source": [
    "from cvxopt import solvers\n",
    "from cvxopt import matrix\n",
    "from datetime import datetime\n",
    "from sklearn.metrics import accuracy_score\n",
    "from scipy import optimize\n"
   ]
  },
  {
   "cell_type": "code",
   "execution_count": 20,
   "id": "46f2f7a1-7d06-4699-b5da-71df81a898a0",
   "metadata": {},
   "outputs": [],
   "source": [
    "class KernelSVC:\n",
    "    '''\n",
    "    Suport vector machine classifier from homework 2 with a few modifications so it works with the kernel class we have defined for the\n",
    "    random walk kernel. \n",
    "    We change the optimizer to use one specifically for quadratic programming convex problems from the cvxopt library.\n",
    "    I also added a precomputed_K parameter, so if you run the fit function for some data, before rerruning for, for example a\n",
    "    different value of C, you can save the kernel matrix that is saved in the attribure K, and save time. \n",
    "    '''\n",
    "    \n",
    "    def __init__(self, C, kernel, precomputed_K = np.array([]), epsilon = 1e-5, optimizer = 'qp'):\n",
    "        self.type = 'non-linear'\n",
    "        self.optimizer = optimizer\n",
    "        self.C = C                               \n",
    "        self.kernel = kernel        \n",
    "        self.alpha = None\n",
    "        self.support = None\n",
    "        self.epsilon = epsilon\n",
    "        self.norm_f = None\n",
    "        self.support_coefs = None\n",
    "        self.K = precomputed_K\n",
    "       \n",
    "    \n",
    "    def fit(self, X, y):\n",
    "       #### You might define here any variable needed for the rest of the code\n",
    "        N = len(y)\n",
    "        \n",
    "        if self.K.shape[0]==0:\n",
    "            self.K = self.kernel.kernel_matrix(X)\n",
    "        \n",
    "        \n",
    "        diag_y = np.diag(y)\n",
    "        P = diag_y.T @ self.K @ diag_y\n",
    "        q = - np.ones(N).astype(np.double)\n",
    "        G = np.vstack((np.identity(N),  -np.identity(N))).astype(np.double)\n",
    "        h = np.hstack((self.C*np.ones((N)),np.zeros((N)))).astype(np.double)\n",
    "        A = y.reshape(1,N).astype(np.double)\n",
    "        #print('rank A',np.linalg.matrix_rank(A) )\n",
    "        b = np.zeros((1,1), np.double)\n",
    "        #print('Rank([P; A; G]) ',np.linalg.matrix_rank(np.concatenate((P,A,G))) )\n",
    "        \n",
    "        print('Begin optimizing')\n",
    "        if self.optimizer =='qp':\n",
    "            optRes = solvers.qp(matrix(P), matrix(q), matrix(G), matrix(h), matrix(A), matrix(b), kktsolver = 'chol')\n",
    "            self.alpha = np.asarray(optRes['x']).reshape(N)\n",
    "            \n",
    "        elif self.optimizer == 'np':\n",
    "            # Lagrange dual problem\n",
    "            def loss(alpha):\n",
    "                return (1/2)*(alpha@P)@alpha.T + alpha@q.T #dual Loss\n",
    "\n",
    "            # Partial derivate of Ld on alpha\n",
    "            def grad_loss(alpha):\n",
    "                grad = P@alpha + q\n",
    "                return grad \n",
    "\n",
    "            fun_eq = lambda alpha: (A@alpha).reshape(1,1)      \n",
    "            jac_eq = lambda alpha: y\n",
    "            fun_ineq = lambda alpha: -(G@alpha - h).reshape(2*N,1)       \n",
    "            jac_ineq = lambda alpha: -G  \n",
    "\n",
    "            constraints = ({'type': 'eq',  'fun': fun_eq, 'jac': jac_eq},\n",
    "                           {'type': 'ineq', \n",
    "                            'fun': fun_ineq , \n",
    "                            'jac': jac_ineq})\n",
    "\n",
    "            optRes = optimize.minimize(fun=lambda alpha: loss(alpha),\n",
    "                                       x0=np.ones(N), \n",
    "                                       method='SLSQP', \n",
    "                                       jac=lambda alpha: grad_loss(alpha), \n",
    "                                       constraints=constraints)\n",
    "            self.alpha = optRes.x\n",
    "        \n",
    "            \n",
    "        print('alpha', self.alpha)\n",
    "        ## Assign the required attributes\n",
    "        \n",
    "   \n",
    "        #'''------------------- A matrix with each row corresponding to a point that falls on the margin ------------------''       \n",
    "        #Points that lay in te margin are also those s.t. 0<alpha_i<C\n",
    "        indices_on_margin = np.asarray((self.alpha>self.epsilon) & (self.alpha<self.C)).nonzero()[0]\n",
    "        self.margin_points =  [X[l] for l in indices_on_margin]\n",
    "        \n",
    "         #''' -----------------offset of the classifier------------------ '''\n",
    "        #Obtain supporting vectors and their corresponding coefficient for f\n",
    "        sv_indices = np.asarray((self.alpha>self.epsilon)).nonzero()[0]\n",
    "        self.support = [X[l] for l in sv_indices]\n",
    "        self.support_coefs = np.multiply(self.alpha[sv_indices], y[sv_indices])\n",
    "    \n",
    "                         \n",
    "        #Compute b as the average of b obtained by points in margin                 \n",
    "        self.b = np.mean((y[indices_on_margin]-self.separating_function_K(indices_on_margin, sv_indices)))\n",
    "        \n",
    "        \n",
    "        # '''------------------------RKHS norm of the function f ------------------------------'''          \n",
    "        #self.norm_f = (self.alpha.T@ self.K)@self.alpha\n",
    "\n",
    "        \n",
    "    def separating_function_K(self,indices_on_margin, sv_indices):\n",
    "        '''\n",
    "        Computes the separating function in the specific points needed to compute the offset b.\n",
    "        It uses the kernel matrix on the data instead od recomputing the kernel in these points.\n",
    "        \n",
    "        '''\n",
    "        print('Computing Separating Function on margin')\n",
    "        \n",
    "        if len(indices_on_margin)==0: return 0\n",
    "        K = np.asarray([[self.K[i][j] for i in list(sv_indices)] for j in list(indices_on_margin)])\n",
    "        \n",
    "        return  K @self.support_coefs\n",
    "    \n",
    "    ### Implementation of the separting function $f$ \n",
    "    def separating_function(self,x):\n",
    "        # Input : matrix x of shape N data points times d dimension\n",
    "        # Output: vector of size N\n",
    "\n",
    "        K = self.kernel.kernel(self.support,x)\n",
    "        return  self.support_coefs @ K\n",
    "    \n",
    "    \n",
    "    def predict(self, X):\n",
    "        \"\"\" Predict y values in {-1, 1} \"\"\"\n",
    "        d = self.separating_function(X)\n",
    "        #print('d',d)\n",
    "        return np.sign(d+self.b)\n",
    "    \n",
    "    "
   ]
  },
  {
   "cell_type": "markdown",
   "id": "85b95fcc-e2f7-4b7c-bdda-f7bd2fb15db8",
   "metadata": {
    "jp-MarkdownHeadingCollapsed": true,
    "tags": []
   },
   "source": [
    "# 3.Experiments "
   ]
  },
  {
   "cell_type": "markdown",
   "id": "7e2fb4dc-082d-4214-92c5-cde93b5bd76e",
   "metadata": {},
   "source": [
    "We select a subset of the Training Dataset more balanced. Originially, the full training dataset had less than a 10% of graphs from category 1. We create a set where the elements of category 1 are a 40% of the set."
   ]
  },
  {
   "cell_type": "code",
   "execution_count": 21,
   "id": "437ab8ca-40c3-4ec2-ae89-5af3335fadca",
   "metadata": {},
   "outputs": [],
   "source": [
    "from collections import Counter\n"
   ]
  },
  {
   "cell_type": "code",
   "execution_count": 22,
   "id": "dc40bdb3-070b-4cff-95aa-ae5171c7fb55",
   "metadata": {},
   "outputs": [
    {
     "name": "stdout",
     "output_type": "stream",
     "text": [
      "Original Train Set:  Counter({0: 3795, 1: 405})\n",
      "Balanced Train Set:  Counter({0: 810, 1: 405})\n"
     ]
    }
   ],
   "source": [
    "print('Original Train Set: ', Counter(y_train))\n",
    "arr1 = np.asarray(y_train==1).nonzero()[0]\n",
    "alll = np.asarray(range(4200))\n",
    "arr0 = np.delete(alll, arr1)\n",
    "\n",
    "# Original train dataset has a 10% of elements from category 1. We create a dataset with 40% of category 1.\n",
    "balanced = np.append(arr1, arr0[:810])\n",
    "print('Balanced Train Set: ',Counter(y_train[balanced]))\n"
   ]
  },
  {
   "cell_type": "code",
   "execution_count": 23,
   "id": "a1e9567b-dae3-45d6-bec1-46a161569b1f",
   "metadata": {},
   "outputs": [
    {
     "data": {
      "text/plain": [
       "1215"
      ]
     },
     "execution_count": 23,
     "metadata": {},
     "output_type": "execute_result"
    }
   ],
   "source": [
    "X_balanced = [X_train[l] for l in balanced]\n",
    "y_balanced = y_train[balanced]\n",
    "len(X_balanced)"
   ]
  },
  {
   "cell_type": "markdown",
   "id": "a3c5d702-f1e3-46e9-a03a-0cd753d665ba",
   "metadata": {
    "tags": []
   },
   "source": [
    "## 3.1. Experiments on the Unlabaled Random Walk Kernel"
   ]
  },
  {
   "cell_type": "markdown",
   "id": "47a3316f-bccd-45ef-80bf-2fb8ae296b62",
   "metadata": {},
   "source": [
    "Since the direct method seemed to be faster and achieve the same values as method from the grakel library we do our experiments with that method.\n",
    "With this kernel we run into some arithmetic issues when trying to use the optimizer from cvxopt. Hence, we use the optimizer from np.scipy"
   ]
  },
  {
   "cell_type": "markdown",
   "id": "0836a1a4-3322-4dae-93f2-ed501cd8cbbf",
   "metadata": {
    "tags": []
   },
   "source": [
    "### Train Dataset Size 4200"
   ]
  },
  {
   "cell_type": "code",
   "execution_count": 25,
   "id": "1d747806-bd15-4643-8aa8-bd72881ea2eb",
   "metadata": {},
   "outputs": [],
   "source": [
    "with mgzip.open('./RWK_unlabeled_4200.pkl', 'rb') as f: \n",
    "        K_train4200_unlabel = pickle.load(f)"
   ]
  },
  {
   "cell_type": "code",
   "execution_count": 25,
   "id": "3a7969e3-9f0b-4f6a-b425-b5830594421c",
   "metadata": {
    "scrolled": true,
    "tags": []
   },
   "outputs": [
    {
     "name": "stdout",
     "output_type": "stream",
     "text": [
      "Fitting. Current Time = 08:27:02\n"
     ]
    },
    {
     "ename": "KeyboardInterrupt",
     "evalue": "",
     "output_type": "error",
     "traceback": [
      "\u001b[0;31m---------------------------------------------------------------------------\u001b[0m",
      "\u001b[0;31mKeyboardInterrupt\u001b[0m                         Traceback (most recent call last)",
      "\u001b[0;32m/var/folders/k0/xshtxbl53md8lxz0q286gwg40000gn/T/ipykernel_48615/3776669961.py\u001b[0m in \u001b[0;36m<module>\u001b[0;34m\u001b[0m\n\u001b[1;32m      3\u001b[0m \u001b[0;31m# Initiating classifier and fitting training data\u001b[0m\u001b[0;34m\u001b[0m\u001b[0;34m\u001b[0m\u001b[0m\n\u001b[1;32m      4\u001b[0m \u001b[0msvc\u001b[0m \u001b[0;34m=\u001b[0m \u001b[0mKernelSVC\u001b[0m\u001b[0;34m(\u001b[0m\u001b[0mC\u001b[0m \u001b[0;34m=\u001b[0m \u001b[0;36m350\u001b[0m\u001b[0;34m,\u001b[0m\u001b[0mprecomputed_K\u001b[0m \u001b[0;34m=\u001b[0m \u001b[0mK_train4200_unlabel\u001b[0m\u001b[0;34m,\u001b[0m \u001b[0mkernel\u001b[0m \u001b[0;34m=\u001b[0m \u001b[0mRandom_Walk_Kernel\u001b[0m\u001b[0;34m(\u001b[0m\u001b[0mmethod\u001b[0m\u001b[0;34m=\u001b[0m\u001b[0;34m'direct'\u001b[0m\u001b[0;34m)\u001b[0m\u001b[0;34m,\u001b[0m \u001b[0moptimizer\u001b[0m \u001b[0;34m=\u001b[0m \u001b[0;34m'np'\u001b[0m\u001b[0;34m)\u001b[0m\u001b[0;34m\u001b[0m\u001b[0;34m\u001b[0m\u001b[0m\n\u001b[0;32m----> 5\u001b[0;31m \u001b[0msvc\u001b[0m\u001b[0;34m.\u001b[0m\u001b[0mfit\u001b[0m\u001b[0;34m(\u001b[0m\u001b[0mX_train\u001b[0m\u001b[0;34m,\u001b[0m \u001b[0;36m2\u001b[0m\u001b[0;34m*\u001b[0m\u001b[0my_train\u001b[0m\u001b[0;34m-\u001b[0m\u001b[0;36m1\u001b[0m\u001b[0;34m)\u001b[0m\u001b[0;34m\u001b[0m\u001b[0;34m\u001b[0m\u001b[0m\n\u001b[0m",
      "\u001b[0;32m/var/folders/k0/xshtxbl53md8lxz0q286gwg40000gn/T/ipykernel_48615/2442197891.py\u001b[0m in \u001b[0;36mfit\u001b[0;34m(self, X, y)\u001b[0m\n\u001b[1;32m     30\u001b[0m \u001b[0;34m\u001b[0m\u001b[0m\n\u001b[1;32m     31\u001b[0m         \u001b[0mdiag_y\u001b[0m \u001b[0;34m=\u001b[0m \u001b[0mnp\u001b[0m\u001b[0;34m.\u001b[0m\u001b[0mdiag\u001b[0m\u001b[0;34m(\u001b[0m\u001b[0my\u001b[0m\u001b[0;34m)\u001b[0m\u001b[0;34m\u001b[0m\u001b[0;34m\u001b[0m\u001b[0m\n\u001b[0;32m---> 32\u001b[0;31m         \u001b[0mP\u001b[0m \u001b[0;34m=\u001b[0m \u001b[0mdiag_y\u001b[0m\u001b[0;34m.\u001b[0m\u001b[0mT\u001b[0m \u001b[0;34m@\u001b[0m \u001b[0mself\u001b[0m\u001b[0;34m.\u001b[0m\u001b[0mK\u001b[0m \u001b[0;34m@\u001b[0m \u001b[0mdiag_y\u001b[0m\u001b[0;34m\u001b[0m\u001b[0;34m\u001b[0m\u001b[0m\n\u001b[0m\u001b[1;32m     33\u001b[0m         \u001b[0mq\u001b[0m \u001b[0;34m=\u001b[0m \u001b[0;34m-\u001b[0m \u001b[0mnp\u001b[0m\u001b[0;34m.\u001b[0m\u001b[0mones\u001b[0m\u001b[0;34m(\u001b[0m\u001b[0mN\u001b[0m\u001b[0;34m)\u001b[0m\u001b[0;34m.\u001b[0m\u001b[0mastype\u001b[0m\u001b[0;34m(\u001b[0m\u001b[0mnp\u001b[0m\u001b[0;34m.\u001b[0m\u001b[0mdouble\u001b[0m\u001b[0;34m)\u001b[0m\u001b[0;34m\u001b[0m\u001b[0;34m\u001b[0m\u001b[0m\n\u001b[1;32m     34\u001b[0m         \u001b[0mG\u001b[0m \u001b[0;34m=\u001b[0m \u001b[0mnp\u001b[0m\u001b[0;34m.\u001b[0m\u001b[0mvstack\u001b[0m\u001b[0;34m(\u001b[0m\u001b[0;34m(\u001b[0m\u001b[0mnp\u001b[0m\u001b[0;34m.\u001b[0m\u001b[0midentity\u001b[0m\u001b[0;34m(\u001b[0m\u001b[0mN\u001b[0m\u001b[0;34m)\u001b[0m\u001b[0;34m,\u001b[0m  \u001b[0;34m-\u001b[0m\u001b[0mnp\u001b[0m\u001b[0;34m.\u001b[0m\u001b[0midentity\u001b[0m\u001b[0;34m(\u001b[0m\u001b[0mN\u001b[0m\u001b[0;34m)\u001b[0m\u001b[0;34m)\u001b[0m\u001b[0;34m)\u001b[0m\u001b[0;34m.\u001b[0m\u001b[0mastype\u001b[0m\u001b[0;34m(\u001b[0m\u001b[0mnp\u001b[0m\u001b[0;34m.\u001b[0m\u001b[0mdouble\u001b[0m\u001b[0;34m)\u001b[0m\u001b[0;34m\u001b[0m\u001b[0;34m\u001b[0m\u001b[0m\n",
      "\u001b[0;31mKeyboardInterrupt\u001b[0m: "
     ]
    }
   ],
   "source": [
    "print(\"Fitting. Current Time =\" , datetime.now().strftime(\"%H:%M:%S\"))\n",
    "\n",
    "# Initiating classifier and fitting training data\n",
    "svc = KernelSVC(C = 350,precomputed_K = K_train4200_unlabel, kernel = Random_Walk_Kernel(method='direct'), optimizer = 'np')\n",
    "svc.fit(X_train, 2*y_train-1)\n"
   ]
  },
  {
   "cell_type": "markdown",
   "id": "fc41ee39-b564-4e17-8aa8-cf3713b62ecb",
   "metadata": {},
   "source": [
    "Checking performance on test set"
   ]
  },
  {
   "cell_type": "code",
   "execution_count": null,
   "id": "912754b5-ac68-41ed-a406-cd727bf4f967",
   "metadata": {},
   "outputs": [],
   "source": [
    "print(\"Predicting. Current Time =\", datetime.now().strftime(\"%H:%M:%S\"))\n",
    "y_pred = svc.predict(X_test[:300])\n",
    "print(\"%2.2f %%\" %(round(accuracy_score(2*y_test[:300]-1, y_pred)*100)))"
   ]
  },
  {
   "cell_type": "markdown",
   "id": "54af6d30-45b3-4de8-90f3-e51e750e9f21",
   "metadata": {},
   "source": [
    "Checking performance on test set, category 1"
   ]
  },
  {
   "cell_type": "code",
   "execution_count": null,
   "id": "adab09ea-2197-4369-b5e5-781bff05e59a",
   "metadata": {},
   "outputs": [],
   "source": [
    "print(\"Predicting. Current Time =\", datetime.now().strftime(\"%H:%M:%S\"))\n",
    "arr1 = np.asarray(y_test[:300]==1).nonzero()[0]\n",
    "y_pred = svc.predict([X_test[i] for i in arr1])\n",
    "print(\"%2.2f %%\" %(round(accuracy_score(2*y_test[arr1]-1, y_pred)*100)))"
   ]
  },
  {
   "cell_type": "markdown",
   "id": "484f2783-ab14-48e4-a1e5-38323b6361ae",
   "metadata": {},
   "source": [
    "Train Dataset 4200 samples:\n",
    "\n",
    "1. C=350. Test set of size 300: % overall, % category 1. Train set of size 300: % overall, % category 1.(#SV = )\n"
   ]
  },
  {
   "cell_type": "markdown",
   "id": "f74c176e-8cd5-4760-9bd4-3032fbdbd5b2",
   "metadata": {
    "jp-MarkdownHeadingCollapsed": true,
    "tags": []
   },
   "source": [
    "### Train Dataset Size 3000"
   ]
  },
  {
   "cell_type": "code",
   "execution_count": 48,
   "id": "1b92e373-bf79-49ab-9faf-a80518fa2a5b",
   "metadata": {},
   "outputs": [],
   "source": [
    "K_train3000_unlabel = K_train4200_unlabel[:3000, :3000]"
   ]
  },
  {
   "cell_type": "code",
   "execution_count": 49,
   "id": "89f8b57c-a206-4bca-ba0b-5e6ed89ab970",
   "metadata": {
    "scrolled": true,
    "tags": []
   },
   "outputs": [
    {
     "name": "stdout",
     "output_type": "stream",
     "text": [
      "Fitting. Current Time = 18:46:27\n",
      "Begin optimizing\n"
     ]
    },
    {
     "ename": "KeyboardInterrupt",
     "evalue": "",
     "output_type": "error",
     "traceback": [
      "\u001b[0;31m---------------------------------------------------------------------------\u001b[0m",
      "\u001b[0;31mKeyboardInterrupt\u001b[0m                         Traceback (most recent call last)",
      "\u001b[0;32m/var/folders/k0/xshtxbl53md8lxz0q286gwg40000gn/T/ipykernel_25541/3012907824.py\u001b[0m in \u001b[0;36m<module>\u001b[0;34m\u001b[0m\n\u001b[1;32m      3\u001b[0m \u001b[0;31m# Initiating classifier and fitting training data\u001b[0m\u001b[0;34m\u001b[0m\u001b[0;34m\u001b[0m\u001b[0m\n\u001b[1;32m      4\u001b[0m \u001b[0msvc\u001b[0m \u001b[0;34m=\u001b[0m \u001b[0mKernelSVC\u001b[0m\u001b[0;34m(\u001b[0m\u001b[0mC\u001b[0m \u001b[0;34m=\u001b[0m \u001b[0;36m600\u001b[0m\u001b[0;34m,\u001b[0m\u001b[0mprecomputed_K\u001b[0m \u001b[0;34m=\u001b[0m \u001b[0mK_train3000_unlabel\u001b[0m\u001b[0;34m,\u001b[0m \u001b[0mkernel\u001b[0m \u001b[0;34m=\u001b[0m \u001b[0mRandom_Walk_Kernel\u001b[0m\u001b[0;34m(\u001b[0m\u001b[0mmethod\u001b[0m\u001b[0;34m=\u001b[0m\u001b[0;34m'direct'\u001b[0m\u001b[0;34m)\u001b[0m\u001b[0;34m,\u001b[0m \u001b[0moptimizer\u001b[0m \u001b[0;34m=\u001b[0m \u001b[0;34m'np'\u001b[0m\u001b[0;34m)\u001b[0m\u001b[0;34m\u001b[0m\u001b[0;34m\u001b[0m\u001b[0m\n\u001b[0;32m----> 5\u001b[0;31m \u001b[0msvc\u001b[0m\u001b[0;34m.\u001b[0m\u001b[0mfit\u001b[0m\u001b[0;34m(\u001b[0m\u001b[0mX_train\u001b[0m\u001b[0;34m[\u001b[0m\u001b[0;34m:\u001b[0m\u001b[0;36m3000\u001b[0m\u001b[0;34m]\u001b[0m\u001b[0;34m,\u001b[0m \u001b[0;36m2\u001b[0m\u001b[0;34m*\u001b[0m\u001b[0my_train\u001b[0m\u001b[0;34m[\u001b[0m\u001b[0;34m:\u001b[0m\u001b[0;36m3000\u001b[0m\u001b[0;34m]\u001b[0m\u001b[0;34m-\u001b[0m\u001b[0;36m1\u001b[0m\u001b[0;34m)\u001b[0m\u001b[0;34m\u001b[0m\u001b[0;34m\u001b[0m\u001b[0m\n\u001b[0m",
      "\u001b[0;32m/var/folders/k0/xshtxbl53md8lxz0q286gwg40000gn/T/ipykernel_25541/2442197891.py\u001b[0m in \u001b[0;36mfit\u001b[0;34m(self, X, y)\u001b[0m\n\u001b[1;32m     64\u001b[0m                             'jac': jac_ineq})\n\u001b[1;32m     65\u001b[0m \u001b[0;34m\u001b[0m\u001b[0m\n\u001b[0;32m---> 66\u001b[0;31m             optRes = optimize.minimize(fun=lambda alpha: loss(alpha),\n\u001b[0m\u001b[1;32m     67\u001b[0m                                        \u001b[0mx0\u001b[0m\u001b[0;34m=\u001b[0m\u001b[0mnp\u001b[0m\u001b[0;34m.\u001b[0m\u001b[0mones\u001b[0m\u001b[0;34m(\u001b[0m\u001b[0mN\u001b[0m\u001b[0;34m)\u001b[0m\u001b[0;34m,\u001b[0m\u001b[0;34m\u001b[0m\u001b[0;34m\u001b[0m\u001b[0m\n\u001b[1;32m     68\u001b[0m                                        \u001b[0mmethod\u001b[0m\u001b[0;34m=\u001b[0m\u001b[0;34m'SLSQP'\u001b[0m\u001b[0;34m,\u001b[0m\u001b[0;34m\u001b[0m\u001b[0;34m\u001b[0m\u001b[0m\n",
      "\u001b[0;32m~/opt/anaconda3/lib/python3.9/site-packages/scipy/optimize/_minimize.py\u001b[0m in \u001b[0;36mminimize\u001b[0;34m(fun, x0, args, method, jac, hess, hessp, bounds, constraints, tol, callback, options)\u001b[0m\n\u001b[1;32m    706\u001b[0m                                 **options)\n\u001b[1;32m    707\u001b[0m     \u001b[0;32melif\u001b[0m \u001b[0mmeth\u001b[0m \u001b[0;34m==\u001b[0m \u001b[0;34m'slsqp'\u001b[0m\u001b[0;34m:\u001b[0m\u001b[0;34m\u001b[0m\u001b[0;34m\u001b[0m\u001b[0m\n\u001b[0;32m--> 708\u001b[0;31m         res = _minimize_slsqp(fun, x0, args, jac, bounds,\n\u001b[0m\u001b[1;32m    709\u001b[0m                               constraints, callback=callback, **options)\n\u001b[1;32m    710\u001b[0m     \u001b[0;32melif\u001b[0m \u001b[0mmeth\u001b[0m \u001b[0;34m==\u001b[0m \u001b[0;34m'trust-constr'\u001b[0m\u001b[0;34m:\u001b[0m\u001b[0;34m\u001b[0m\u001b[0;34m\u001b[0m\u001b[0m\n",
      "\u001b[0;32m~/opt/anaconda3/lib/python3.9/site-packages/scipy/optimize/_slsqp_py.py\u001b[0m in \u001b[0;36m_minimize_slsqp\u001b[0;34m(func, x0, args, jac, bounds, constraints, maxiter, ftol, iprint, disp, eps, callback, finite_diff_rel_step, **unknown_options)\u001b[0m\n\u001b[1;32m    420\u001b[0m     \u001b[0;32mwhile\u001b[0m \u001b[0;36m1\u001b[0m\u001b[0;34m:\u001b[0m\u001b[0;34m\u001b[0m\u001b[0;34m\u001b[0m\u001b[0m\n\u001b[1;32m    421\u001b[0m         \u001b[0;31m# Call SLSQP\u001b[0m\u001b[0;34m\u001b[0m\u001b[0;34m\u001b[0m\u001b[0m\n\u001b[0;32m--> 422\u001b[0;31m         slsqp(m, meq, x, xl, xu, fx, c, g, a, acc, majiter, mode, w, jw,\n\u001b[0m\u001b[1;32m    423\u001b[0m               \u001b[0malpha\u001b[0m\u001b[0;34m,\u001b[0m \u001b[0mf0\u001b[0m\u001b[0;34m,\u001b[0m \u001b[0mgs\u001b[0m\u001b[0;34m,\u001b[0m \u001b[0mh1\u001b[0m\u001b[0;34m,\u001b[0m \u001b[0mh2\u001b[0m\u001b[0;34m,\u001b[0m \u001b[0mh3\u001b[0m\u001b[0;34m,\u001b[0m \u001b[0mh4\u001b[0m\u001b[0;34m,\u001b[0m \u001b[0mt\u001b[0m\u001b[0;34m,\u001b[0m \u001b[0mt0\u001b[0m\u001b[0;34m,\u001b[0m \u001b[0mtol\u001b[0m\u001b[0;34m,\u001b[0m\u001b[0;34m\u001b[0m\u001b[0;34m\u001b[0m\u001b[0m\n\u001b[1;32m    424\u001b[0m               \u001b[0miexact\u001b[0m\u001b[0;34m,\u001b[0m \u001b[0mincons\u001b[0m\u001b[0;34m,\u001b[0m \u001b[0mireset\u001b[0m\u001b[0;34m,\u001b[0m \u001b[0mitermx\u001b[0m\u001b[0;34m,\u001b[0m \u001b[0mline\u001b[0m\u001b[0;34m,\u001b[0m\u001b[0;34m\u001b[0m\u001b[0;34m\u001b[0m\u001b[0m\n",
      "\u001b[0;31mKeyboardInterrupt\u001b[0m: "
     ]
    }
   ],
   "source": [
    "print(\"Fitting. Current Time =\" , datetime.now().strftime(\"%H:%M:%S\"))\n",
    "\n",
    "# Initiating classifier and fitting training data\n",
    "svc = KernelSVC(C = 600,precomputed_K = K_train3000_unlabel, kernel = Random_Walk_Kernel(method='direct'), optimizer = 'np')\n",
    "svc.fit(X_train[:3000], 2*y_train[:3000]-1)"
   ]
  },
  {
   "cell_type": "markdown",
   "id": "25fb613a-5d13-45d9-bc8e-e5f666ea43cf",
   "metadata": {},
   "source": [
    "Checking performance on test set"
   ]
  },
  {
   "cell_type": "code",
   "execution_count": null,
   "id": "4f5acf6f-52db-4977-9c46-baa6121b0a27",
   "metadata": {},
   "outputs": [],
   "source": [
    "print(\"Predicting. Current Time =\", datetime.now().strftime(\"%H:%M:%S\"))\n",
    "y_pred = svc.predict(X_test[:300])\n",
    "print(\"%2.2f %%\" %(round(accuracy_score(2*y_test[:300]-1, y_pred)*100)))"
   ]
  },
  {
   "cell_type": "markdown",
   "id": "6dd7d013-fd03-4345-b395-f3e89c6781bf",
   "metadata": {},
   "source": [
    "Checking performance on test set, category 1"
   ]
  },
  {
   "cell_type": "code",
   "execution_count": null,
   "id": "ab25b336-f744-45d8-8c0a-9a887d3ed1fa",
   "metadata": {},
   "outputs": [],
   "source": [
    "print(\"Predicting. Current Time =\", datetime.now().strftime(\"%H:%M:%S\"))\n",
    "arr1 = np.asarray(y_test[:300]==1).nonzero()[0]\n",
    "y_pred = svc.predict([X_test[i] for i in arr1])\n",
    "print(\"%2.2f %%\" %(round(accuracy_score(2*y_test[arr1]-1, y_pred)*100)))"
   ]
  },
  {
   "cell_type": "markdown",
   "id": "f960ee87-e16b-4b41-97e3-3b5c4ebd1c47",
   "metadata": {},
   "source": [
    "Train Dataset 3000 samples:\n",
    "\n",
    "1. C=600. Test set of size 300: 34% overall, 59% category 1. .(#SV = 1473 )\n",
    "2. C=150. Test set of size 300: % overall, % category 1. .(#SV =  )\n",
    "3. C=75. Test set of size 300: % overall, % category 1. .(#SV =  )"
   ]
  },
  {
   "cell_type": "markdown",
   "id": "c46e91e4-abb4-4173-adc1-7e0711905a22",
   "metadata": {
    "jp-MarkdownHeadingCollapsed": true,
    "tags": []
   },
   "source": [
    "### Balanced Train Dataset"
   ]
  },
  {
   "cell_type": "code",
   "execution_count": 51,
   "id": "c4f9ac2e-0e9a-4603-961b-4babed42c0fe",
   "metadata": {},
   "outputs": [
    {
     "data": {
      "text/plain": [
       "(1215, 1215)"
      ]
     },
     "execution_count": 51,
     "metadata": {},
     "output_type": "execute_result"
    }
   ],
   "source": [
    "K_balanced_unlabel = K_train4200_unlabel[balanced,:]\n",
    "K_balanced_unlabel = K_balanced_unlabel[:, balanced]\n",
    "K_balanced_unlabel.shape"
   ]
  },
  {
   "cell_type": "code",
   "execution_count": 57,
   "id": "57ddffd1-90a6-4fa1-b7a5-d8b23a06503f",
   "metadata": {
    "scrolled": true,
    "tags": []
   },
   "outputs": [
    {
     "name": "stdout",
     "output_type": "stream",
     "text": [
      "Fitting. Current Time = 19:10:53\n",
      "Begin optimizing\n",
      "alpha [1. 1. 1. ... 1. 1. 1.]\n",
      "Computing Separating Function on margin\n"
     ]
    }
   ],
   "source": [
    "print(\"Fitting. Current Time =\" , datetime.now().strftime(\"%H:%M:%S\"))\n",
    "\n",
    "# Initiating classifier and fitting training data\n",
    "svc = KernelSVC(C = 400,precomputed_K = K_balanced_unlabel, kernel = Random_Walk_Kernel(method='direct'), optimizer = 'np')\n",
    "svc.fit(X_balanced, 2*y_balanced-1)"
   ]
  },
  {
   "cell_type": "markdown",
   "id": "42cf4292-501f-4bb9-baa0-ecc440e9224b",
   "metadata": {},
   "source": [
    "Checking performance on test set"
   ]
  },
  {
   "cell_type": "code",
   "execution_count": 58,
   "id": "e1da3b3b-35f2-48b0-8a9a-1bd9dfcf89f9",
   "metadata": {},
   "outputs": [
    {
     "name": "stdout",
     "output_type": "stream",
     "text": [
      "Predicting. Current Time = 19:11:23\n"
     ]
    },
    {
     "name": "stderr",
     "output_type": "stream",
     "text": [
      "/var/folders/k0/xshtxbl53md8lxz0q286gwg40000gn/T/ipykernel_25541/365156290.py:103: FutureWarning: adjacency_matrix will return a scipy.sparse array instead of a matrix in Networkx 3.0.\n",
      "  adj_G1 = nx.adjacency_matrix(G1) #this outputs scipy sparse matrix\n",
      "/var/folders/k0/xshtxbl53md8lxz0q286gwg40000gn/T/ipykernel_25541/365156290.py:104: FutureWarning: adjacency_matrix will return a scipy.sparse array instead of a matrix in Networkx 3.0.\n",
      "  adj_G2 = nx.adjacency_matrix(G2) #this outputs scipy sparse matrix\n"
     ]
    },
    {
     "name": "stdout",
     "output_type": "stream",
     "text": [
      "42.00 %\n"
     ]
    }
   ],
   "source": [
    "print(\"Predicting. Current Time =\", datetime.now().strftime(\"%H:%M:%S\"))\n",
    "y_pred = svc.predict(X_test[:300])\n",
    "print(\"%2.2f %%\" %(round(accuracy_score(2*y_test[:300]-1, y_pred)*100)))"
   ]
  },
  {
   "cell_type": "markdown",
   "id": "ca4bce8a-c9d8-4638-a552-4cf9cbca69df",
   "metadata": {},
   "source": [
    "Checking performance on test set, category 1"
   ]
  },
  {
   "cell_type": "code",
   "execution_count": 59,
   "id": "5878bcad-3fe3-4f44-8ed4-7ecb61ab0a1e",
   "metadata": {},
   "outputs": [
    {
     "name": "stdout",
     "output_type": "stream",
     "text": [
      "Predicting. Current Time = 19:18:48\n"
     ]
    },
    {
     "name": "stderr",
     "output_type": "stream",
     "text": [
      "/var/folders/k0/xshtxbl53md8lxz0q286gwg40000gn/T/ipykernel_25541/365156290.py:103: FutureWarning: adjacency_matrix will return a scipy.sparse array instead of a matrix in Networkx 3.0.\n",
      "  adj_G1 = nx.adjacency_matrix(G1) #this outputs scipy sparse matrix\n",
      "/var/folders/k0/xshtxbl53md8lxz0q286gwg40000gn/T/ipykernel_25541/365156290.py:104: FutureWarning: adjacency_matrix will return a scipy.sparse array instead of a matrix in Networkx 3.0.\n",
      "  adj_G2 = nx.adjacency_matrix(G2) #this outputs scipy sparse matrix\n"
     ]
    },
    {
     "name": "stdout",
     "output_type": "stream",
     "text": [
      "52.00 %\n"
     ]
    }
   ],
   "source": [
    "print(\"Predicting. Current Time =\", datetime.now().strftime(\"%H:%M:%S\"))\n",
    "arr1 = np.asarray(y_test[:300]==1).nonzero()[0]\n",
    "y_pred = svc.predict([X_test[i] for i in arr1])\n",
    "print(\"%2.2f %%\" %(round(accuracy_score(2*y_test[arr1]-1, y_pred)*100)))"
   ]
  },
  {
   "cell_type": "markdown",
   "id": "6e8b3967-9ad3-49ec-8806-3295adc23934",
   "metadata": {},
   "source": [
    "Balanced Dataset\n",
    "1. C=600. Test set of size 300: % overall, % category 1. Train set of size 300: 42% overall, 52% category 1.(#SV = )\n"
   ]
  },
  {
   "cell_type": "markdown",
   "id": "faf215e1-78a1-42a2-8bcc-7b304fc0886e",
   "metadata": {
    "tags": []
   },
   "source": [
    "## 3.2. Experiments on Labeled Nodes Random Walk "
   ]
  },
  {
   "cell_type": "markdown",
   "id": "d6bf954b-92c0-4d76-afae-55e3ac728bb1",
   "metadata": {
    "tags": []
   },
   "source": [
    "### Train Dataset Size 4200\n"
   ]
  },
  {
   "cell_type": "code",
   "execution_count": 26,
   "id": "35e5e1cb-2bff-46a7-8567-98ba2f895a11",
   "metadata": {},
   "outputs": [],
   "source": [
    "with mgzip.open('./RWK_Labeled_4200.pkl', 'rb') as f: \n",
    "        K_train4200_label = pickle.load(f)"
   ]
  },
  {
   "cell_type": "code",
   "execution_count": 246,
   "id": "856749a2-bff6-4e49-9d01-aea3d281cd93",
   "metadata": {
    "scrolled": true,
    "tags": []
   },
   "outputs": [
    {
     "name": "stdout",
     "output_type": "stream",
     "text": [
      "Fitting. Current Time = 15:53:19\n",
      "rank A 1\n",
      "Rank([P; A; G])  4200\n",
      "Begin optimizing\n",
      "     pcost       dcost       gap    pres   dres\n",
      " 0:  3.1986e+06 -7.0355e+08  2e+09  5e-01  5e-09\n",
      " 1:  4.7178e+06 -2.9376e+08  5e+08  1e-01  6e-09\n",
      " 2:  4.2676e+06 -1.3235e+08  2e+08  3e-02  5e-09\n",
      " 3:  2.1109e+06 -5.2472e+07  6e+07  9e-03  5e-09\n",
      " 4:  1.3697e+06 -3.9291e+07  4e+07  4e-03  5e-09\n",
      " 5:  3.8610e+05 -1.2828e+07  1e+07  2e-04  5e-09\n",
      " 6: -3.7416e+03 -4.8846e+06  5e+06  4e-05  5e-09\n",
      " 7: -1.2659e+05 -2.7705e+06  3e+06  1e-05  5e-09\n",
      " 8: -2.1709e+05 -1.1133e+06  9e+05  3e-06  5e-09\n",
      " 9: -2.4321e+05 -9.4516e+05  7e+05  2e-06  5e-09\n",
      "10: -2.6757e+05 -7.5871e+05  5e+05  1e-06  6e-09\n",
      "11: -2.8879e+05 -6.2931e+05  3e+05  7e-07  5e-09\n",
      "12: -3.0515e+05 -5.4161e+05  2e+05  4e-07  6e-09\n",
      "13: -3.1392e+05 -4.9663e+05  2e+05  3e-07  6e-09\n",
      "14: -3.2180e+05 -4.6168e+05  1e+05  2e-07  6e-09\n",
      "15: -3.2712e+05 -4.3953e+05  1e+05  1e-07  6e-09\n",
      "16: -3.3403e+05 -4.0964e+05  8e+04  5e-08  6e-09\n",
      "17: -3.4023e+05 -3.9011e+05  5e+04  3e-08  7e-09\n",
      "18: -3.4337e+05 -3.8110e+05  4e+04  2e-08  7e-09\n",
      "19: -3.4467e+05 -3.7309e+05  3e+04  3e-09  7e-09\n",
      "20: -3.4714e+05 -3.6782e+05  2e+04  2e-09  7e-09\n",
      "21: -3.5022e+05 -3.6117e+05  1e+04  7e-10  7e-09\n",
      "22: -3.5175e+05 -3.5771e+05  6e+03  5e-11  8e-09\n",
      "23: -3.5317e+05 -3.5548e+05  2e+03  3e-11  7e-09\n",
      "24: -3.5378e+05 -3.5453e+05  8e+02  5e-11  8e-09\n",
      "25: -3.5400e+05 -3.5423e+05  2e+02  6e-11  8e-09\n",
      "26: -3.5409e+05 -3.5413e+05  4e+01  3e-12  7e-09\n",
      "27: -3.5410e+05 -3.5411e+05  8e+00  2e-11  7e-09\n",
      "28: -3.5410e+05 -3.5411e+05  2e+00  4e-11  7e-09\n",
      "29: -3.5410e+05 -3.5410e+05  4e-02  5e-12  8e-09\n",
      "Optimal solution found.\n",
      "alpha [1.04427210e-05 2.93916233e-07 1.62179798e+02 ... 7.02459683e-06\n",
      " 9.63862265e+01 6.23342605e-06]\n",
      "Computing Separating Function on margin\n"
     ]
    }
   ],
   "source": [
    "print(\"Fitting. Current Time =\", datetime.now().strftime(\"%H:%M:%S\"))\n",
    "\n",
    "# Initiating classifier and fitting training data\n",
    "svc2 = KernelSVC(C = 600,precomputed_K = K_train4200_label ,kernel = Labeled_Random_Walk_Kernel(method='direct'))\n",
    "svc2.fit(X_train, 2*y_train-1)"
   ]
  },
  {
   "cell_type": "markdown",
   "id": "23e272d3-f94f-465c-b147-bc63b9636e5e",
   "metadata": {},
   "source": [
    "Checking performance on test set"
   ]
  },
  {
   "cell_type": "code",
   "execution_count": null,
   "id": "39210990-6516-47a6-a0f6-50a1a8273361",
   "metadata": {},
   "outputs": [],
   "source": [
    "print(\"Predicting. Current Time =\", datetime.now().strftime(\"%H:%M:%S\"))\n",
    "y_pred = svc2.predict(X_test[:300])\n",
    "print(\"%2.2f %%\" %(round(accuracy_score(2*y_test[:300]-1, y_pred)*100)))"
   ]
  },
  {
   "cell_type": "markdown",
   "id": "4b4c8851-b2cd-4d0b-9746-4409e2e66ed5",
   "metadata": {},
   "source": [
    "Checking performance on test set, category 1"
   ]
  },
  {
   "cell_type": "code",
   "execution_count": null,
   "id": "fd6e26b3-14c3-40e6-9e47-94d3aa12e237",
   "metadata": {},
   "outputs": [],
   "source": [
    "print(\"Predicting. Current Time =\", datetime.now().strftime(\"%H:%M:%S\"))\n",
    "arr1 = np.asarray(y_test[:300]==1).nonzero()[0]\n",
    "y_pred = svc2.predict([X_test[i] for i in arr1])\n",
    "print(\"%2.2f %%\" %(round(accuracy_score(2*y_test[arr1]-1, y_pred)*100)))"
   ]
  },
  {
   "cell_type": "markdown",
   "id": "a23278a5-13f2-41f6-a44c-0f9b7d418ce4",
   "metadata": {},
   "source": [
    "1. 4200 training samples,C=300. Test set of size 150: 80% overall, 46% category 1.\n",
    "2. 4200 training samples,C=400. Test set of size 150: 80% overall, 56% category 1. \n",
    "3. 4200 training samples,C=500. Test set of size 150: 85% overall, 61% category 1. (#SV = 3477)\n",
    "3. 4200 training samples,C=700. Test set of size 150: 81% overall, 56% category 1. (#SV = 1606)\n",
    "3. C=600. Test set of size 300: % overall, % category 1. Train set of size 300: 83% overall, 61% category 1.(#SV = 1627)"
   ]
  },
  {
   "cell_type": "markdown",
   "id": "63202d6e-1c8a-4b1d-9655-fddaaae26fcd",
   "metadata": {
    "tags": []
   },
   "source": [
    "### Train Dataset Size 3000\n"
   ]
  },
  {
   "cell_type": "code",
   "execution_count": 228,
   "id": "121581a5-036c-4a23-9621-9e5970648fa0",
   "metadata": {},
   "outputs": [],
   "source": [
    "K_train_3000 = K_train4200_label[:3000, :3000]"
   ]
  },
  {
   "cell_type": "code",
   "execution_count": 243,
   "id": "4ca18295-4d37-4e6c-afbe-ecc47e4a9283",
   "metadata": {
    "scrolled": true,
    "tags": []
   },
   "outputs": [
    {
     "name": "stdout",
     "output_type": "stream",
     "text": [
      "Fitting. Current Time = 15:51:26\n",
      "rank A 1\n",
      "Rank([P; A; G])  3000\n",
      "Begin optimizing\n",
      "     pcost       dcost       gap    pres   dres\n",
      " 0:  2.6277e+06 -5.1950e+08  1e+09  5e-01  4e-09\n",
      " 1:  4.1157e+06 -2.2834e+08  3e+08  1e-01  4e-09\n",
      " 2:  3.7467e+06 -1.0419e+08  1e+08  3e-02  4e-09\n",
      " 3:  1.6479e+06 -3.3025e+07  4e+07  6e-03  3e-09\n",
      " 4:  3.4785e+05 -8.6772e+06  9e+06  2e-12  4e-09\n",
      " 5:  3.6665e+04 -4.6119e+06  5e+06  6e-12  4e-09\n",
      " 6: -1.0279e+05 -1.4556e+06  1e+06  2e-11  4e-09\n",
      " 7: -1.4323e+05 -1.1235e+06  1e+06  6e-12  4e-09\n",
      " 8: -1.8573e+05 -6.1065e+05  4e+05  5e-13  4e-09\n",
      " 9: -1.9993e+05 -5.3114e+05  3e+05  5e-12  4e-09\n",
      "10: -2.1424e+05 -4.4662e+05  2e+05  5e-12  4e-09\n",
      "11: -2.2773e+05 -3.7557e+05  1e+05  3e-12  4e-09\n",
      "12: -2.3330e+05 -3.5137e+05  1e+05  5e-12  4e-09\n",
      "13: -2.3956e+05 -3.2274e+05  8e+04  5e-12  4e-09\n",
      "14: -2.4497e+05 -3.0033e+05  6e+04  2e-11  4e-09\n",
      "15: -2.4993e+05 -2.8480e+05  3e+04  1e-11  4e-09\n",
      "16: -2.5310e+05 -2.7585e+05  2e+04  9e-12  4e-09\n",
      "17: -2.5547e+05 -2.6966e+05  1e+04  1e-11  4e-09\n",
      "18: -2.5771e+05 -2.6438e+05  7e+03  5e-11  4e-09\n",
      "19: -2.5866e+05 -2.6191e+05  3e+03  3e-11  5e-09\n",
      "20: -2.5972e+05 -2.6029e+05  6e+02  7e-12  5e-09\n",
      "21: -2.5989e+05 -2.6004e+05  2e+02  5e-12  4e-09\n",
      "22: -2.5994e+05 -2.5998e+05  4e+01  2e-11  5e-09\n",
      "23: -2.5995e+05 -2.5996e+05  8e+00  1e-11  5e-09\n",
      "24: -2.5996e+05 -2.5996e+05  2e-01  2e-11  5e-09\n",
      "Optimal solution found.\n",
      "alpha [7.13106197e-05 2.32428272e-06 2.26336018e+02 ... 4.03540201e-05\n",
      " 3.74309559e-05 3.43453669e-05]\n",
      "Computing Separating Function on margin\n"
     ]
    }
   ],
   "source": [
    "print(\"Fitting. Current Time =\", datetime.now().strftime(\"%H:%M:%S\"))\n",
    "\n",
    "# Initiating classifier and fitting training data\n",
    "svc4 = KernelSVC(C = 600, precomputed_K =  K_train_3000, kernel = Labeled_Random_Walk_Kernel(method='direct'))\n",
    "svc4.fit(X_train[:3000], 2*y_train[:3000]-1)"
   ]
  },
  {
   "cell_type": "markdown",
   "id": "f9c362b8-feec-401d-81da-3b05fc117316",
   "metadata": {},
   "source": [
    "Checking performance on test set"
   ]
  },
  {
   "cell_type": "code",
   "execution_count": null,
   "id": "e2fc5a9e-2b67-4a6e-91dc-5e3bbee262c5",
   "metadata": {},
   "outputs": [],
   "source": [
    "print(\"Predicting. Current Time =\", datetime.now().strftime(\"%H:%M:%S\"))\n",
    "y_pred = svc4.predict(X_test[:300])\n",
    "print(\"%2.2f %%\" %(round(accuracy_score(2*y_test[:300]-1, y_pred)*100)))"
   ]
  },
  {
   "cell_type": "markdown",
   "id": "15ba9c11-8d88-4a93-956b-ecfb86f851db",
   "metadata": {},
   "source": [
    "Checking performance on test set, category 1"
   ]
  },
  {
   "cell_type": "code",
   "execution_count": null,
   "id": "df6f2079-aca5-4003-b5dd-ab3feaa283c7",
   "metadata": {
    "tags": []
   },
   "outputs": [],
   "source": [
    "print(\"Predicting. Current Time =\", datetime.now().strftime(\"%H:%M:%S\"))\n",
    "arr1 = np.asarray(y_test[:300]==1).nonzero()[0]\n",
    "y_pred = svc4.predict([X_test[i] for i in arr1])\n",
    "print(\"%2.2f %%\" %(round(accuracy_score(2*y_test[arr1]-1, y_pred)*100)))"
   ]
  },
  {
   "cell_type": "markdown",
   "id": "4f5bcec1-fa2d-4716-b567-ca3e1a5d9e4a",
   "metadata": {
    "tags": []
   },
   "source": [
    "Results with 3000 training samples.\n",
    "\n",
    "1. C=600.Test set of size 300: 87% overall, 74% category 1. Train set size 500: 91% overall, 79% category 1. (#SV 2894)\n",
    "2. C=800.Test set of size 300: 89% overall, 74% category 1. Train set size 500: 91% overall, 75% category 1. (#SV 2693 )\n",
    "2. C=700.Test set of size 300: 89% overall, % category 1. Train set size 500: 93% overall, 57% category 1. (#SV 848)\n",
    "2. C=500.Test set of size 300: 89% overall, % category 1. Train set size 500: % overall, % category 1. (#SV 732 )"
   ]
  },
  {
   "cell_type": "markdown",
   "id": "497e64d9-8e2f-4579-bb70-bffd2d03da80",
   "metadata": {
    "jp-MarkdownHeadingCollapsed": true,
    "tags": []
   },
   "source": [
    "### Balanced Train Dataset\n"
   ]
  },
  {
   "cell_type": "code",
   "execution_count": 45,
   "id": "d0ce4331-a7c6-4e93-8be3-83dda4367bd8",
   "metadata": {},
   "outputs": [],
   "source": [
    "with open('./RWK_Labeled_4200.pkl', 'rb') as f: \n",
    "        K_train4200_label = pickle.load(f)"
   ]
  },
  {
   "cell_type": "code",
   "execution_count": 18,
   "id": "7e7e76e4-dab8-44bf-bf95-49604c08a71c",
   "metadata": {},
   "outputs": [
    {
     "data": {
      "text/plain": [
       "(1215, 1215)"
      ]
     },
     "execution_count": 18,
     "metadata": {},
     "output_type": "execute_result"
    }
   ],
   "source": [
    "K_balanced_label = K_train4200_label[balanced,:]\n",
    "K_balanced_label = K_balanced[:, balanced]\n",
    "K_balanced_label.shape"
   ]
  },
  {
   "cell_type": "code",
   "execution_count": 20,
   "id": "62966fd9-6891-4bdf-b97e-183b2f3c7186",
   "metadata": {
    "scrolled": true,
    "tags": []
   },
   "outputs": [
    {
     "name": "stdout",
     "output_type": "stream",
     "text": [
      "Fitting. Current Time = 20:58:07\n",
      "rank A 1\n",
      "Rank([P; A; G])  1215\n",
      "Begin optimizing\n",
      "     pcost       dcost       gap    pres   dres\n",
      " 0:  4.7708e+06 -6.8706e+08  2e+09  1e+00  2e-08\n",
      " 1:  7.5646e+06 -3.5677e+08  5e+08  2e-01  2e-08\n",
      " 2:  5.1246e+06 -1.0139e+08  1e+08  3e-02  3e-08\n",
      " 3:  1.9853e+06 -3.2220e+07  4e+07  9e-03  2e-08\n",
      " 4:  4.3180e+05 -8.7915e+06  9e+06  8e-04  2e-08\n",
      " 5:  5.5251e+04 -2.6229e+06  3e+06  2e-04  2e-08\n",
      " 6:  9.4701e+03 -2.3946e+06  2e+06  1e-04  2e-08\n",
      " 7: -1.0126e+05 -7.0637e+05  6e+05  2e-05  2e-08\n",
      " 8: -1.4527e+05 -4.1817e+05  3e+05  6e-06  2e-08\n",
      " 9: -1.6618e+05 -3.2764e+05  2e+05  3e-06  2e-08\n",
      "10: -1.8344e+05 -2.6198e+05  8e+04  1e-06  2e-08\n",
      "11: -1.9134e+05 -2.3647e+05  5e+04  5e-07  2e-08\n",
      "12: -1.9695e+05 -2.1864e+05  2e+04  1e-07  2e-08\n",
      "13: -2.0079e+05 -2.0876e+05  8e+03  3e-08  3e-08\n",
      "14: -2.0257e+05 -2.0448e+05  2e+03  2e-11  3e-08\n",
      "15: -2.0317e+05 -2.0344e+05  3e+02  2e-11  2e-08\n",
      "16: -2.0326e+05 -2.0330e+05  4e+01  6e-11  2e-08\n",
      "17: -2.0327e+05 -2.0328e+05  3e+00  1e-10  3e-08\n",
      "18: -2.0327e+05 -2.0327e+05  5e-02  5e-12  3e-08\n",
      "Optimal solution found.\n",
      "alpha [2.09510796e-05 1.72204166e-05 6.55912713e+02 ... 1.35826339e+02\n",
      " 3.05218184e-06 1.01341512e-05]\n",
      "Computing Separating Function on margin\n"
     ]
    }
   ],
   "source": [
    "print(\"Fitting. Current Time =\", datetime.now().strftime(\"%H:%M:%S\"))\n",
    "\n",
    "# Initiating classifier and fitting training data\n",
    "svc5 = KernelSVC(C = 700, precomputed_K =  K_balanced, kernel = Labeled_Random_Walk_Kernel(method='direct'))\n",
    "svc5.fit(X_balanced, 2*y_balanced-1)"
   ]
  },
  {
   "cell_type": "markdown",
   "id": "7542cb9c-7973-4f8a-a427-086144b99691",
   "metadata": {},
   "source": [
    "Checking performance on test set"
   ]
  },
  {
   "cell_type": "code",
   "execution_count": null,
   "id": "f2dc9332-a7e4-465b-a1c3-4dadf765c3b6",
   "metadata": {},
   "outputs": [
    {
     "name": "stdout",
     "output_type": "stream",
     "text": [
      "Predicting. Current Time = 20:52:29\n"
     ]
    },
    {
     "name": "stderr",
     "output_type": "stream",
     "text": [
      "  0%|          | 0/774 [00:00<?, ?it/s]/var/folders/k0/xshtxbl53md8lxz0q286gwg40000gn/T/ipykernel_42807/370063994.py:14: FutureWarning: adjacency_matrix will return a scipy.sparse array instead of a matrix in Networkx 3.0.\n",
      "  adj_G1 = nx.adjacency_matrix(G1) #this outputs scipy sparse matrix\n",
      "/var/folders/k0/xshtxbl53md8lxz0q286gwg40000gn/T/ipykernel_42807/370063994.py:17: FutureWarning: adjacency_matrix will return a scipy.sparse array instead of a matrix in Networkx 3.0.\n",
      "  adj_G2 = nx.adjacency_matrix(G2) #this outputs scipy sparse matrix\n",
      " 63%|██████▎   | 487/774 [04:06<03:01,  1.58it/s]"
     ]
    }
   ],
   "source": [
    "print(\"Predicting. Current Time =\", datetime.now().strftime(\"%H:%M:%S\"))\n",
    "y_pred = svc5.predict(X_test[:300])\n",
    "print(\"%2.2f %%\" %(round(accuracy_score(2*y_test[:300]-1, y_pred)*100)))"
   ]
  },
  {
   "cell_type": "markdown",
   "id": "ef2a537b-50af-4170-baef-691045a48b7c",
   "metadata": {},
   "source": [
    "Checking performance on test set, category 1"
   ]
  },
  {
   "cell_type": "code",
   "execution_count": 21,
   "id": "b2099bb6-b603-40d8-83fe-21e90f6c399c",
   "metadata": {
    "tags": []
   },
   "outputs": [
    {
     "name": "stdout",
     "output_type": "stream",
     "text": [
      "Predicting. Current Time = 20:58:19\n"
     ]
    },
    {
     "name": "stderr",
     "output_type": "stream",
     "text": [
      "  0%|          | 0/976 [00:00<?, ?it/s]/var/folders/k0/xshtxbl53md8lxz0q286gwg40000gn/T/ipykernel_45149/370063994.py:14: FutureWarning: adjacency_matrix will return a scipy.sparse array instead of a matrix in Networkx 3.0.\n",
      "  adj_G1 = nx.adjacency_matrix(G1) #this outputs scipy sparse matrix\n",
      "/var/folders/k0/xshtxbl53md8lxz0q286gwg40000gn/T/ipykernel_45149/370063994.py:17: FutureWarning: adjacency_matrix will return a scipy.sparse array instead of a matrix in Networkx 3.0.\n",
      "  adj_G2 = nx.adjacency_matrix(G2) #this outputs scipy sparse matrix\n",
      "100%|██████████| 976/976 [00:47<00:00, 20.46it/s]"
     ]
    },
    {
     "name": "stdout",
     "output_type": "stream",
     "text": [
      "85.00 %\n"
     ]
    },
    {
     "name": "stderr",
     "output_type": "stream",
     "text": [
      "\n"
     ]
    }
   ],
   "source": [
    "print(\"Predicting. Current Time =\", datetime.now().strftime(\"%H:%M:%S\"))\n",
    "arr1 = np.asarray(y_test[:300]==1).nonzero()[0]\n",
    "y_pred = svc5.predict([X_test[i] for i in arr1])\n",
    "print(\"%2.2f %%\" %(round(accuracy_score(2*y_test[arr1]-1, y_pred)*100)))"
   ]
  },
  {
   "cell_type": "markdown",
   "id": "dab390fc-7eb6-4db9-8888-f8a3aeb02856",
   "metadata": {
    "tags": []
   },
   "source": [
    "Results with balanced training samples.\n",
    "\n",
    "1. 20% cat 1. C=600.Test set of size 300: 89% overall, 70% category 1. Train set size 500:94% overall, 76% category 1. (#SV 1922)\n",
    "1. 40% cat 1. C=700 Test set of size 300: 80% overall, 85% category 1. Train set size 500:% overall, 89% category 1. (#SV 976)\n",
    "1. 40% cat 1. C=900 Test set of size 300: % overall, % category 1. Train set size 500:% overall, % category 1. (#SV 976)\n"
   ]
  },
  {
   "cell_type": "markdown",
   "id": "e197b519-56b5-4b31-98d7-04c5c4db3fe0",
   "metadata": {
    "jp-MarkdownHeadingCollapsed": true,
    "tags": []
   },
   "source": [
    "## 3.3. Experiments on RW with Labeled Edges and Nodes"
   ]
  },
  {
   "cell_type": "markdown",
   "id": "74e9fe0c-9d63-493f-bbf1-0f80612af2af",
   "metadata": {
    "tags": []
   },
   "source": [
    "### Training Set of size 1500"
   ]
  },
  {
   "cell_type": "code",
   "execution_count": 56,
   "id": "d2f3e586-eb7e-46c2-8345-a42ec0dfefc0",
   "metadata": {},
   "outputs": [],
   "source": [
    "with open('./RWK_Edges_1500.pkl', 'rb') as f: \n",
    "        K_train_lab_edges1500 = pickle.load(f)"
   ]
  },
  {
   "cell_type": "code",
   "execution_count": 57,
   "id": "cfd513f9-eeb1-455e-ad3b-187b38d1346c",
   "metadata": {},
   "outputs": [
    {
     "name": "stdout",
     "output_type": "stream",
     "text": [
      "(1500, 1500)\n"
     ]
    }
   ],
   "source": [
    "print(K_train_lab_edges1500.shape)"
   ]
  },
  {
   "cell_type": "code",
   "execution_count": 75,
   "id": "1ecbf38b-fac5-497a-b5ce-ff3533dafbde",
   "metadata": {
    "scrolled": true,
    "tags": []
   },
   "outputs": [
    {
     "name": "stdout",
     "output_type": "stream",
     "text": [
      "Fitting. Current Time = 18:56:35\n",
      "Begin optimizing\n",
      "alpha [-11.07396174 -10.51450336   3.92168068 ...  -2.24821327  -5.1395726\n",
      " -44.38160411]\n",
      "Computing Separating Function on margin\n",
      "indices_on_margin 439\n",
      "K (439, 665)\n",
      "self.support_coefs (665,)\n"
     ]
    }
   ],
   "source": [
    "print(\"Fitting. Current Time =\", datetime.now().strftime(\"%H:%M:%S\"))\n",
    "\n",
    "# Initiating classifier and fitting training data\n",
    "svc2 = KernelSVC(C = 6 ,precomputed_K = K_train_lab_edges1500, kernel = Labeled__Edges_RW_Kernel(method='direct'), optimizer = 'np')\n",
    "svc2.fit(X_train[:1500], 2*y_train[:1500]-1)"
   ]
  },
  {
   "cell_type": "markdown",
   "id": "e70f00ed-3274-4e4c-a14f-fcb5ebda6837",
   "metadata": {},
   "source": [
    "Checking performance on test set"
   ]
  },
  {
   "cell_type": "code",
   "execution_count": null,
   "id": "56224179-90dc-4578-b667-58c017f896d2",
   "metadata": {},
   "outputs": [
    {
     "name": "stdout",
     "output_type": "stream",
     "text": [
      "Predicting. Current Time = 19:00:30\n"
     ]
    },
    {
     "name": "stderr",
     "output_type": "stream",
     "text": [
      "  0%|          | 0/665 [00:00<?, ?it/s]/var/folders/k0/xshtxbl53md8lxz0q286gwg40000gn/T/ipykernel_26102/365156290.py:132: FutureWarning: adjacency_matrix will return a scipy.sparse array instead of a matrix in Networkx 3.0.\n",
      "  adj_G1 = nx.adjacency_matrix(G1)\n",
      "/var/folders/k0/xshtxbl53md8lxz0q286gwg40000gn/T/ipykernel_26102/365156290.py:133: FutureWarning: adjacency_matrix will return a scipy.sparse array instead of a matrix in Networkx 3.0.\n",
      "  adj_G2 = nx.adjacency_matrix(G2)\n",
      " 86%|████████▌ | 570/665 [21:17<03:02,  1.93s/it]"
     ]
    }
   ],
   "source": [
    "print(\"Predicting. Current Time =\", datetime.now().strftime(\"%H:%M:%S\"))\n",
    "y_pred = svc2.predict(X_test[:300])\n",
    "print(\"%2.2f %%\" %(round(accuracy_score(2*y_test[:300]-1, y_pred)*100)))"
   ]
  },
  {
   "cell_type": "markdown",
   "id": "1072819d-11d5-43b1-a673-c1e846e9b649",
   "metadata": {},
   "source": [
    "Checking performance on test set, category 1"
   ]
  },
  {
   "cell_type": "code",
   "execution_count": null,
   "id": "295f5418-b5ad-4b67-a5b1-f77d4209e47e",
   "metadata": {
    "tags": []
   },
   "outputs": [],
   "source": [
    "print(\"Predicting. Current Time =\", datetime.now().strftime(\"%H:%M:%S\"))\n",
    "arr1 = np.asarray(y_test[:300]==1).nonzero()[0]\n",
    "y_pred = svc2.predict([X_test[i] for i in arr1])\n",
    "print(\"%2.2f %%\" %(round(accuracy_score(2*y_test[arr1]-1, y_pred)*100)))"
   ]
  },
  {
   "cell_type": "markdown",
   "id": "6fb36366-481c-4197-bd13-e93ead9f09d2",
   "metadata": {},
   "source": [
    "Labaled edges and nodes.  Dataset size 1500\n",
    "1.  C=4.Test set of size 300: 32% overall, 96% category 1 (#SV 833)\n",
    "2.  C = 5 .Test set of size 300: 49% overall, 78% category 1 (#SV 865)\n",
    "3.  C = 7 .Test set of size 300: % overall, % category 1 (#SV 865)"
   ]
  },
  {
   "cell_type": "markdown",
   "id": "6819eb61-341a-41bd-bdf5-399c06cc6698",
   "metadata": {
    "jp-MarkdownHeadingCollapsed": true,
    "tags": []
   },
   "source": [
    "### Balanced Training Dataset"
   ]
  },
  {
   "cell_type": "code",
   "execution_count": null,
   "id": "07a9dbb6-de7f-49ff-b4e5-076dc10687df",
   "metadata": {},
   "outputs": [],
   "source": [
    "with open('./RWK_Edges_Balanced.pkl', 'rb') as f: \n",
    "    K_edges_balanced = pickle.load(f)"
   ]
  },
  {
   "cell_type": "code",
   "execution_count": 44,
   "id": "8c91769b-83ee-4ba6-ab41-07afb6615f5d",
   "metadata": {
    "scrolled": true,
    "tags": []
   },
   "outputs": [
    {
     "name": "stdout",
     "output_type": "stream",
     "text": [
      "Fitting. Current Time = 14:53:34\n",
      "Begin optimizing\n",
      "alpha [-4.48119918e-05 -4.89705751e-05  2.50005464e+00 ...  2.49991789e+00\n",
      "  2.50020421e+00 -6.12662895e-05]\n",
      "Computing Separating Function on margin\n",
      "indices_on_margin 194\n",
      "K (194, 492)\n",
      "self.support_coefs (492,)\n"
     ]
    }
   ],
   "source": [
    "print(\"Fitting. Current Time =\", datetime.now().strftime(\"%H:%M:%S\"))\n",
    "\n",
    "# Initiating classifier and fitting training data\n",
    "svc2 = KernelSVC(C = 2.5 ,precomputed_K = K_edges_balanced, kernel = Labeled__Edges_RW_Kernel(method='direct'), optimizer = 'np')\n",
    "svc2.fit(X_balanced, 2*y_balanced-1)"
   ]
  },
  {
   "cell_type": "markdown",
   "id": "a1b2a9e9-5452-497c-9066-59ec2e04dd8a",
   "metadata": {},
   "source": [
    "Checking performance on training set, category 1"
   ]
  },
  {
   "cell_type": "code",
   "execution_count": 45,
   "id": "6bdbe092-e22a-4583-b3f6-2c0f70df843e",
   "metadata": {
    "scrolled": true,
    "tags": []
   },
   "outputs": [
    {
     "name": "stdout",
     "output_type": "stream",
     "text": [
      "Predicting. Current Time = 14:57:27\n"
     ]
    },
    {
     "name": "stderr",
     "output_type": "stream",
     "text": [
      "  0%|          | 0/492 [00:00<?, ?it/s]/var/folders/k0/xshtxbl53md8lxz0q286gwg40000gn/T/ipykernel_26102/365156290.py:132: FutureWarning: adjacency_matrix will return a scipy.sparse array instead of a matrix in Networkx 3.0.\n",
      "  adj_G1 = nx.adjacency_matrix(G1)\n",
      "/var/folders/k0/xshtxbl53md8lxz0q286gwg40000gn/T/ipykernel_26102/365156290.py:133: FutureWarning: adjacency_matrix will return a scipy.sparse array instead of a matrix in Networkx 3.0.\n",
      "  adj_G2 = nx.adjacency_matrix(G2)\n",
      "100%|██████████| 492/492 [03:41<00:00,  2.22it/s]"
     ]
    },
    {
     "name": "stdout",
     "output_type": "stream",
     "text": [
      "52.00 %\n"
     ]
    },
    {
     "name": "stderr",
     "output_type": "stream",
     "text": [
      "\n"
     ]
    }
   ],
   "source": [
    "print(\"Predicting. Current Time =\", datetime.now().strftime(\"%H:%M:%S\"))\n",
    "arr1 = np.asarray(y_train[:500]==1).nonzero()[0]\n",
    "y_pred = svc2.predict([X_train[i] for i in arr1])\n",
    "print(\"%2.2f %%\" %(round(accuracy_score(2*y_train[arr1]-1, y_pred)*100)))"
   ]
  },
  {
   "cell_type": "markdown",
   "id": "98a63c28-04c4-4ea6-ac80-0b6663b288d8",
   "metadata": {},
   "source": [
    "Checking performance on test set"
   ]
  },
  {
   "cell_type": "code",
   "execution_count": 46,
   "id": "68557071-d090-4d65-bc8c-c56826fa9388",
   "metadata": {},
   "outputs": [
    {
     "name": "stdout",
     "output_type": "stream",
     "text": [
      "Predicting. Current Time = 15:01:08\n"
     ]
    },
    {
     "name": "stderr",
     "output_type": "stream",
     "text": [
      "  0%|          | 0/492 [00:00<?, ?it/s]/var/folders/k0/xshtxbl53md8lxz0q286gwg40000gn/T/ipykernel_26102/365156290.py:132: FutureWarning: adjacency_matrix will return a scipy.sparse array instead of a matrix in Networkx 3.0.\n",
      "  adj_G1 = nx.adjacency_matrix(G1)\n",
      "/var/folders/k0/xshtxbl53md8lxz0q286gwg40000gn/T/ipykernel_26102/365156290.py:133: FutureWarning: adjacency_matrix will return a scipy.sparse array instead of a matrix in Networkx 3.0.\n",
      "  adj_G2 = nx.adjacency_matrix(G2)\n",
      "100%|██████████| 492/492 [19:52<00:00,  2.42s/it]"
     ]
    },
    {
     "name": "stdout",
     "output_type": "stream",
     "text": [
      "66.00 %\n"
     ]
    },
    {
     "name": "stderr",
     "output_type": "stream",
     "text": [
      "\n"
     ]
    }
   ],
   "source": [
    "print(\"Predicting. Current Time =\", datetime.now().strftime(\"%H:%M:%S\"))\n",
    "y_pred = svc2.predict(X_test[:300])\n",
    "print(\"%2.2f %%\" %(round(accuracy_score(2*y_test[:300]-1, y_pred)*100)))"
   ]
  },
  {
   "cell_type": "code",
   "execution_count": 47,
   "id": "b92923ce-fd47-4858-bfc6-f0d8d7e1224d",
   "metadata": {},
   "outputs": [
    {
     "name": "stdout",
     "output_type": "stream",
     "text": [
      "66.00 %\n"
     ]
    }
   ],
   "source": [
    "print(\"%2.2f %%\" %(round(accuracy_score(2*y_test[:300]-1, y_pred)*100)))"
   ]
  },
  {
   "cell_type": "markdown",
   "id": "bb9b1422-2731-4f8b-9428-2550236a6705",
   "metadata": {},
   "source": [
    "Checking performance on test set, category 1"
   ]
  },
  {
   "cell_type": "code",
   "execution_count": 48,
   "id": "6dabc243-920b-4e23-a106-2ea69aabf61b",
   "metadata": {
    "tags": []
   },
   "outputs": [
    {
     "name": "stdout",
     "output_type": "stream",
     "text": [
      "Predicting. Current Time = 15:21:01\n"
     ]
    },
    {
     "name": "stderr",
     "output_type": "stream",
     "text": [
      "  0%|          | 0/492 [00:00<?, ?it/s]/var/folders/k0/xshtxbl53md8lxz0q286gwg40000gn/T/ipykernel_26102/365156290.py:132: FutureWarning: adjacency_matrix will return a scipy.sparse array instead of a matrix in Networkx 3.0.\n",
      "  adj_G1 = nx.adjacency_matrix(G1)\n",
      "/var/folders/k0/xshtxbl53md8lxz0q286gwg40000gn/T/ipykernel_26102/365156290.py:133: FutureWarning: adjacency_matrix will return a scipy.sparse array instead of a matrix in Networkx 3.0.\n",
      "  adj_G2 = nx.adjacency_matrix(G2)\n",
      "100%|██████████| 492/492 [01:53<00:00,  4.33it/s]"
     ]
    },
    {
     "name": "stdout",
     "output_type": "stream",
     "text": [
      "67.00 %\n"
     ]
    },
    {
     "name": "stderr",
     "output_type": "stream",
     "text": [
      "\n"
     ]
    }
   ],
   "source": [
    "print(\"Predicting. Current Time =\", datetime.now().strftime(\"%H:%M:%S\"))\n",
    "arr1 = np.asarray(y_test[:300]==1).nonzero()[0]\n",
    "y_pred = svc2.predict([X_test[i] for i in arr1])\n",
    "print(\"%2.2f %%\" %(round(accuracy_score(2*y_test[arr1]-1, y_pred)*100)))"
   ]
  },
  {
   "cell_type": "markdown",
   "id": "122eae57-d957-4c3e-8fb9-da3d71dde495",
   "metadata": {},
   "source": [
    "Labaled edges and nodes. Balanced Dataset\n",
    "1.  C=1.Test set of size 200: 68% overall, 68% category 1. Train set size 500:70% overall, 50% category 1. (#SV 425)\n",
    "2.  C=5.Test set of size 300: 60% overall, 74% category 1. Train set size 500:% overall, 55% category 1. (#SV 516)\n",
    "3. C=2.5.Test set of size 300: 66% overall, 67% category 1. Train set size 500:% overall, 52% category 1. (#SV 492)"
   ]
  },
  {
   "cell_type": "markdown",
   "id": "c1c5b1dc-3694-4f48-8ae1-540a9cbd65e0",
   "metadata": {
    "jp-MarkdownHeadingCollapsed": true,
    "tags": []
   },
   "source": [
    "## 4. Saving results"
   ]
  },
  {
   "cell_type": "code",
   "execution_count": 22,
   "id": "925c74db-ca7c-415e-99fb-aa7797874281",
   "metadata": {},
   "outputs": [
    {
     "name": "stderr",
     "output_type": "stream",
     "text": [
      "  0%|          | 0/976 [00:00<?, ?it/s]/var/folders/k0/xshtxbl53md8lxz0q286gwg40000gn/T/ipykernel_45149/370063994.py:14: FutureWarning: adjacency_matrix will return a scipy.sparse array instead of a matrix in Networkx 3.0.\n",
      "  adj_G1 = nx.adjacency_matrix(G1) #this outputs scipy sparse matrix\n",
      "/var/folders/k0/xshtxbl53md8lxz0q286gwg40000gn/T/ipykernel_45149/370063994.py:17: FutureWarning: adjacency_matrix will return a scipy.sparse array instead of a matrix in Networkx 3.0.\n",
      "  adj_G2 = nx.adjacency_matrix(G2) #this outputs scipy sparse matrix\n",
      "100%|██████████| 976/976 [1:33:32<00:00,  5.75s/it]  \n"
     ]
    }
   ],
   "source": [
    "y_submission = svc5.predict(challenge_data)\n"
   ]
  },
  {
   "cell_type": "code",
   "execution_count": 23,
   "id": "50f8bdb9-475b-4b85-a78d-7e041e98d95e",
   "metadata": {},
   "outputs": [
    {
     "data": {
      "text/plain": [
       "Counter({-1.0: 1182, 1.0: 818})"
      ]
     },
     "execution_count": 23,
     "metadata": {},
     "output_type": "execute_result"
    }
   ],
   "source": [
    "from collections import Counter\n",
    "Counter(y_submission)"
   ]
  },
  {
   "cell_type": "code",
   "execution_count": 24,
   "id": "5d9fc742-13fa-4258-a6f6-cfd3f1b5ff77",
   "metadata": {},
   "outputs": [],
   "source": [
    "\n",
    "y_df = [1 if y==1 else 0 for y in y_submission]\n",
    "\n",
    "import pandas as pd\n",
    "Yte = {'Predicted' : y_df} \n",
    "dataframe = pd.DataFrame(Yte) \n",
    "dataframe.index += 1 \n",
    "\n",
    "dataframe.to_csv('test_pred.csv',index_label='Id')"
   ]
  },
  {
   "cell_type": "code",
   "execution_count": 25,
   "id": "59e7e37c-23ad-4e97-9e77-9776517dde81",
   "metadata": {},
   "outputs": [
    {
     "data": {
      "text/plain": [
       "Counter({0: 1182, 1: 818})"
      ]
     },
     "execution_count": 25,
     "metadata": {},
     "output_type": "execute_result"
    }
   ],
   "source": [
    "Counter(y_df)"
   ]
  },
  {
   "cell_type": "code",
   "execution_count": null,
   "id": "0307474d-3a80-480b-aa93-fdfd95ba3772",
   "metadata": {},
   "outputs": [],
   "source": []
  }
 ],
 "metadata": {
  "kernelspec": {
   "display_name": "Python 3 (ipykernel)",
   "language": "python",
   "name": "python3"
  },
  "language_info": {
   "codemirror_mode": {
    "name": "ipython",
    "version": 3
   },
   "file_extension": ".py",
   "mimetype": "text/x-python",
   "name": "python",
   "nbconvert_exporter": "python",
   "pygments_lexer": "ipython3",
   "version": "3.9.13"
  }
 },
 "nbformat": 4,
 "nbformat_minor": 5
}
